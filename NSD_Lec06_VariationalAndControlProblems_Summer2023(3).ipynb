{
 "cells": [
  {
   "cell_type": "markdown",
   "metadata": {},
   "source": [
    "# Topics in Quantitative Finance, Summer 2023 \n",
    "\n",
    "## Lecture 6: Brief introduction to variational and control problems\n",
    "    \n",
    "<br>\n",
    "<br>\n",
    "\n",
    "<center>\n",
    "<font size=5, color=darkblue> Tai-Ho Wang (王 太和)</font>\n",
    "</center>\n",
    "<img src=\"http://mfe.baruch.cuny.edu/wp-content/uploads/2016/04/MFE-Logo.jpg\" align = \"center\" width=450>\n",
    "\n",
    "$$\n",
    "\\newcommand{\\cA}{\\mathcal{A}}\n",
    "\\newcommand{\\cC}{\\mathcal{C}}\n",
    "\\newcommand{\\cF}{\\mathcal{F}}\n",
    "\\newcommand{\\cG}{\\mathcal{G}}\n",
    "\\newcommand{\\E}{\\mathbb{E}}\n",
    "\\newcommand{\\P}{\\mathbb{P}}\n",
    "\\newcommand{\\R}{\\mathbb{R}}\n",
    "\\newcommand{\\Eof}[1]{\\mathbb{E}\\left[ #1 \\right]}\n",
    "\\newcommand{\\Pof}[1]{\\mathbb{P}\\left[ #1 \\right]}\n",
    "\\newcommand{\\var}[1]{{\\rm Var}\\left( #1 \\right)}\n",
    "\\newcommand{\\p}{\\partial}\n",
    "\\newcommand{\\tr}{\\mbox{tr}}\n",
    "\\newcommand{\\euro}{€}\n",
    "\\newcommand{\\yen}{¥}\n",
    "\\newcommand{\\argmax}{\\mbox{argmax}}\n",
    "\\newcommand{\\argmin}{\\mbox{argmin}}\n",
    "\\newcommand{\\1}[1]{\\mathbb{1}_{\\left\\{ #1 \\right\\}}}\n",
    "\\newcommand{\\mbA}{\\mathbf A}\n",
    "\\newcommand{\\mbB}{\\mathbf B}\n",
    "\\newcommand{\\mbP}{\\mathbf P}\n",
    "\\newcommand{\\mbQ}{\\mathbf Q}\n",
    "\\newcommand{\\mbR}{\\mathbf R}\n",
    "\\newcommand{\\mbS}{\\mathbf S}\n",
    "\\newcommand{\\bA}{\\boldsymbol A}\n",
    "\\newcommand{\\bB}{\\boldsymbol B}\n",
    "\\newcommand{\\bP}{\\boldsymbol P}\n",
    "\\newcommand{\\bp}{\\boldsymbol p}\n",
    "\\newcommand{\\bu}{\\boldsymbol u}\n",
    "\\newcommand{\\bW}{\\boldsymbol W}\n",
    "\\newcommand{\\bX}{\\boldsymbol X}\n",
    "\\newcommand{\\bx}{\\boldsymbol x}\n",
    "\\newcommand{\\bSigma}{\\boldsymbol \\Sigma}\n",
    "$$"
   ]
  },
  {
   "cell_type": "markdown",
   "metadata": {},
   "source": [
    "## Agenda\n",
    "- Variational problem\n",
    "- Euler-Lagrange equation\n",
    "- Control problem\n",
    "- Bellman's dynamical programming principle\n",
    "    - Hamilton-Jacobi-Bellman (HJB) equation\n",
    "- Merton's portfolio problem\n",
    "    - Illustration by simulation\n",
    "- Linear-quadratic (LQ) problem\n",
    "- Matrix Riccati equation and its solution\n",
    "- Appendix (Optional)\n",
    "    - Pontryagin's maximum principle"
   ]
  },
  {
   "cell_type": "markdown",
   "metadata": {},
   "source": [
    "## What is a variational problem?\n",
    "\n",
    "Let $L = L(t, x, \\dot x)$ be the (rate) of running cost/reward at time $t$, state $x$, and velocity $\\dot x$. The total cost/reward functional of the path $x_t$ (assumed differentiable) for  $0 \\leq t \\leq T$, denoted by $R[x_t]$, is given by\n",
    "\n",
    "$$\n",
    "R[x_t] := \\int_0^T L(t, x_t, \\dot x_t) dt,\n",
    "$$\n",
    "\n",
    "where $L$ is also referred to as the *Lagrangian* of the variational problem. \n",
    "\n",
    "The goal of a variational problem is to determine a path $x_t$, for $0 \\leq t \\leq T$, among a class $\\cC$ of functions that minimizes/maximizes the total cost/reward. Precisely, \n",
    "\n",
    "$$\n",
    "x^* = \\mathop{\\argmax/\\argmin}_{x \\in \\cC} \\int_0^T L(t, x_t, \\dot x_t) dt,\n",
    "$$\n",
    "\n",
    "where $\\cC$ is the class of functions under consideration. "
   ]
  },
  {
   "cell_type": "markdown",
   "metadata": {},
   "source": [
    "## First order criterion\n",
    "\n",
    "Suppose that the optimal path $x_t$ maximizes the reward functional\n",
    "\n",
    "$$\n",
    "R[x]=\\int_0^T\\,L(t,x_t,\\dot x_t)\\,dt\n",
    "$$ \n",
    "\n",
    "with boundary conditions $x_0 = a$, $x_T = b$. \n",
    "\n",
    "Let $\\varphi$ be a perturbation with $\\varphi(0)=\\varphi(T)=0$, due to the boundary conditions satisfied by the paths.\n",
    "The first order criterion for optimal path (should there exists one) reads\n",
    "\n",
    "$$\\left.\\frac{d}{d\\epsilon}\\right|_{\\epsilon=0}R[x+\\epsilon\\,\\varphi,\\dot x + \\epsilon\\,\\dot \\varphi]=0.$$"
   ]
  },
  {
   "cell_type": "markdown",
   "metadata": {},
   "source": [
    "## Euler-Lagrange equation\n",
    "\n",
    "Computing this derivative explicitly (suppressing explicit dependence on\n",
    "$t$),\n",
    "\n",
    "\\begin{eqnarray*}\n",
    "&& \\left.\\frac{d}{d\\epsilon}\\right|_{\\epsilon=0}R[x + \\epsilon \\varphi, \\dot x + \\epsilon \\dot\\varphi] \\\\\n",
    "&=& \\int_0^T\\,\\left\\{\\frac{\\partial L}{\\partial x}\\,\\varphi+\\frac{\\partial L}{\\partial\\dot x}\\,\\dot \\varphi\\right\\}\\,dt \\\\\n",
    "&=& \\int_0^T\\,\\left\\{\\frac{\\partial L}{\\partial x}\\,\\varphi - \\int_0^T \\frac{d}{dt}\\frac{\\partial L}{\\partial\\dot x}\\, \\varphi\\right\\}\\,dt + \\left.\\frac{\\partial L}{\\partial\\dot x}\\,\\varphi\\right|_{t=0}^T  \\quad (\\mbox{by applying integration by partys}) \\\\\n",
    "&=& \\int_0^T\\,\\left\\{\\frac{\\partial L}{\\partial x}-\\frac{\\partial}{\\partial t}\\frac{\\partial L}{\\partial\\dot x}\\right\\}\\,\\varphi\\,dt \\quad (\\mbox{since } \\varphi(0) = \\varphi(T) = 0)\n",
    "\\end{eqnarray*}\n",
    "\n",
    "Since this must hold for any perturbation $\\varphi$ with\n",
    "$\\varphi(0)=\\varphi(T)=0$, we deduce\n",
    "\n",
    "\n",
    "> <font color=\"blue\">The Euler-Lagrange equation </font>\n",
    "$$\n",
    "\\frac{d}{d t}\\,\\left(\\frac{\\partial L}{\\partial {\\dot x} }\\right)-\\frac{\\partial L}{\\partial {x} } = 0\n",
    "$$\n",
    "    with boundary conditions $x_0 = a$ and $x_T = b$.\n",
    "    \n",
    "#### Note\n",
    "- Boundary conditions may vary with the setting of the problem, as we shall see in the example that follows.\n",
    "- We need the second variation to verify if a solution the Euler-Lagrange is truely optimal.  "
   ]
  },
  {
   "cell_type": "markdown",
   "metadata": {},
   "source": [
    "## Example \n",
    "\n",
    "Consider the problem of finding a curve from a given point to a given straight line\n",
    "that has minimum length. Without loss of generality, on the $xy$ plane we may assume the given straight line is the horizontal line $y = T$ for some $T > 0$ and the given point is the origin.\n",
    "\n",
    "Let's parametrize the curve from origin to the line $y = T$ as $(x,y) = (x_t, t)$, for $0 \\leq t \\leq T$. Thus, the problem can be recast as a variational problem as \n",
    "\n",
    "$$\n",
    "\\min_{x_t} D[\\dot x_t] =  \\min_{x_t} \\int_0^T \\sqrt{1 + \\dot x_t^2} dt\n",
    "$$\n",
    "\n",
    "with $x_0 = 0$. Note that there is no constraint on the terminal value $x_T$ and by construction the terminal point always lands on the line $y = T$. We derive the first order criterion for the optimal path as follows. Let $L(\\dot x) = \\sqrt{1 + \\dot x^2}$ and $\\varphi$ be a perturbation with $\\varphi(0) = 0$. Then\n",
    "\n",
    "\\begin{eqnarray*}\n",
    "\\left.\\frac{d}{d\\epsilon}\\right|_{\\epsilon=0}D \n",
    "&=& \\int_0^T \\, \\left.\\frac{d}{d\\epsilon}\\right|_{\\epsilon=0} \\left\\{L(\\dot x_t + \\epsilon \\dot\\varphi_t)\\right\\}\\,dt\\\\\n",
    "&=& \\int_0^T\\,\\left\\{ \\frac{\\partial L}{\\partial\\dot x}\\,\\dot \\varphi\\right\\} \\, dt \\\\\n",
    "&=& - \\int_0^T \\, \\frac{d}{dt}\\frac{\\partial L}{\\partial\\dot x}\\, \\varphi \\,dt + \\left.\\frac{\\partial L}{\\partial\\dot x}\\,\\varphi\\right|_{t=0}^T  \\quad (\\mbox{by applying integration by partys}) \\\\\n",
    "&=& -\\int_0^T \\, \\frac{d}{d t}\\frac{\\partial L}{\\partial\\dot x} \\, \\varphi \\, dt + \\left.  \\frac{\\partial L}{\\partial\\dot x} \\right|_T \\varphi(T) \\quad (\\mbox{since } \\varphi(0) = 0)\n",
    "\\end{eqnarray*}\n",
    "\n",
    "Note that we have\n",
    "\n",
    "\\begin{eqnarray*}\n",
    "&& \\frac{\\partial L}{\\partial\\dot x} = \\frac{\\dot x_t}{\\sqrt{1 + \\dot x_t^2}}, \\\\\n",
    "&& \\frac{d}{dt} \\frac{\\partial L}{\\partial\\dot x}\n",
    "= \\frac{d}{dt}\\left(\\frac{\\dot x_t}{\\sqrt{1 + \\dot x_t^2}} \\right)\n",
    "= \\frac{\\ddot x_t}{(1 + \\dot x_t^2)^{3/2}}.\n",
    "\\end{eqnarray*}\n",
    "\n",
    "Since the first order criterion holds for *any* perturbation $\\varphi$, it follows that \n",
    "\n",
    "\\begin{eqnarray*}\n",
    "&& \\frac{d}{d t}\\frac{\\partial L}{\\partial\\dot x} = \\frac{\\ddot x_t}{(1 + \\dot x_t^2)^{3/2}} = 0, \\\\\n",
    "&& \\left.  \\frac{\\partial L}{\\partial\\dot x} \\right|_{\\dot x = \\dot x_T} = \\frac{\\dot x_T}{\\sqrt{1 + \\dot x_T^2}} = 0.\n",
    "\\end{eqnarray*}\n",
    "\n",
    "As a result, the optimal path $x_t$ must satisfy the second order ODE\n",
    "\n",
    "$$\n",
    "\\ddot x_t = 0\n",
    "$$\n",
    "\n",
    "with boundary conditions $x_0 = 0$ and $\\dot x_T = 0$. The solution is unsurprsingly given by $x_t = 0$ for $0 \\leq t \\leq T$."
   ]
  },
  {
   "cell_type": "markdown",
   "metadata": {},
   "source": [
    "## Optimal control theory\n",
    "\n",
    "Quotes from this [Wikipage](https://en.wikipedia.org/wiki/Optimal_control):\n",
    "\n",
    "> - Optimal control theory, an extension of the calculus of variations, is a mathematical optimization method for deriving control policies. The method is largely due to the work of Lev Pontryagin and his collaborators in the Soviet Union and Richard Bellman in the United States.\n",
    ">\n",
    ">\n",
    "> - Optimal control deals with the problem of finding a control law for a given system such that a certain optimality criterion is achieved. A control problem includes a cost functional that is a function of state and control variables. An optimal control is a set of differential equations describing the paths of the control variables that minimize the cost functional. The optimal control can be derived using Pontryagin's maximum principle (a necessary condition also known as Pontryagin's minimum principle or simply Pontryagin's Principle), or by solving the Hamilton–Jacobi–Bellman equation (a sufficient condition).\n"
   ]
  },
  {
   "cell_type": "markdown",
   "metadata": {},
   "source": [
    "## Richard Ernest Bellman \n",
    "\n",
    "<h2><img src=\"https://upload.wikimedia.org/wikipedia/en/7/7a/Richard_Ernest_Bellman.jpg\" align = \"center\" width=200></h2>\n",
    "\n",
    "Courtesy: Photos from the [Wikipage](https://en.wikipedia.org/wiki/Richard_E._Bellman)"
   ]
  },
  {
   "cell_type": "markdown",
   "metadata": {},
   "source": [
    "## Лев Семёнович Понтря́гин\n",
    "\n",
    "<h2><img src=\"https://upload.wikimedia.org/wikipedia/commons/3/39/Lev_Pontrjagin.jpg\" align = \"center\" width=200></h2>\n",
    "\n",
    "Courtesy: Photo from the [Wikipage](https://en.wikipedia.org/wiki/Lev_Pontryagin)"
   ]
  },
  {
   "cell_type": "markdown",
   "metadata": {},
   "source": [
    "## What is a control problem?\n",
    "\n",
    "A control problem consists of\n",
    "\n",
    "- State variables\n",
    "- Control variables\n",
    "- Set of admissible controls\n",
    "- Performance criterion\n",
    "- Objective functional\n",
    "\n",
    "A control problem is *stochastic* if the state variables are driven by stochastic processes; otherwise, it is *deterministic*. \n",
    "\n",
    "Performance criterion usually consists of a running cost/reward and a terminal cost/reward.\n",
    "\n",
    "The goal of a control problem is to determine control policies, also called *optimal controls*, among all adimssible policies that maximize or minimize the objective functional.\n",
    "\n",
    "A control problem can be of finite or infinite horizon. A discount factor is usually required for an infinite horizon control problem as finiteness/well-definedness of the objective functional is concerned. \n",
    "\n",
    "The *value function* of a control problem is the optimal value of the objective functional when the controled system is in a specific state at a certain time. \n",
    "\n",
    "A control problem is called *Markovian* if the state variables follow a Markov process. \n",
    "\n",
    "One of key ingredients in solving control problems is the *Bellman's principle*, also knowns as the *dynamic programming principle* satisfied by the value function.  "
   ]
  },
  {
   "cell_type": "markdown",
   "metadata": {},
   "source": [
    "## Stochastic control problem\n",
    "\n",
    "Consider the following stochastic control problem aiming at minimizing expected costs among all admissible controls.\n",
    "\n",
    "$$\n",
    "  \\min_{v\\in\\mathcal G[0,T]} \\E\\left[g(X^{(v)}_T) + \\int_0^T h(s,X^{(v)}_s,v_s) ds \\right],\n",
    "$$\n",
    "\n",
    "where\n",
    "* $\\mathcal G[0,T]$ is the collection of admissible controls in the time interval $[0,T]$ \n",
    "* the state variable $X^{(v)}_t$ is driven by the controlled SDE\n",
    "    $$\n",
    "      dX^{(v)}_t = \\mu( t,X^{(v)}_t, v_t) dt + \\sigma(t,X^{(v)}_t, v_t) dW_t.\n",
    "    $$\n",
    "* $g(X^{(v)}_T) + \\int_0^T h(s,X^{(v)}_s,v_s) ds$ is the performance criterion for policy $v \\in \\cG[0, T]$\n",
    "* $g$ is referred to as the *terminal cost* and $h$ is the *running cost*\n",
    "\n",
    "\n",
    "#### Note\n",
    "The problem reduces to a deterministic control problem if $\\sigma \\equiv 0$."
   ]
  },
  {
   "cell_type": "markdown",
   "metadata": {},
   "source": [
    "## Bellman’s principle of optimality\n",
    "\n",
    "> An optimal policy has the property that whatever the initial state and\n",
    "initial decision are, the remaining decisions must constitute an optimal\n",
    "policy with regard to the state resulting from the first decision.\n",
    "\n",
    "(See Bellman, 1957, Chap. III.3.)"
   ]
  },
  {
   "cell_type": "markdown",
   "metadata": {},
   "source": [
    "## Value function \n",
    "\n",
    "* For a given admissible control $v\\in\\mathcal G[t,T]$, define the objective functional $J^{(v)}$ as\n",
    "    \n",
    "    $$\n",
    "      J^{(v)}(t,x) = \\E\\left[\\left. g(X^{(v)}_T) + \\int_t^T h(s,X^{(v)}_s,v_s) ds \\right| X_t = x \\right].\n",
    "    $$\n",
    "\n",
    "\n",
    "* The *value function* $J(t,x)$ for a stochastic control problem is defined as\n",
    "\n",
    "    $$\n",
    "      J(t,x) = \\min_{v\\in\\mathcal G[t,T]} J^{(v)}(t,x).\n",
    "    $$\n",
    "\n",
    "\n",
    "* The value function $J$ at $(t,x)$ is the optimal value of the control problem conditioned on the process starting at $(t,x)$ and applying the optimal control thereafter."
   ]
  },
  {
   "cell_type": "markdown",
   "metadata": {},
   "source": [
    "## Bellman's principle again\n",
    "\n",
    "The Bellman's principle can be rephrased in terms of value function as follow. For any $0 < \\epsilon < T -t$,\n",
    "\n",
    "$$\n",
    "J(t,x) = \\min_{v\\in\\mathcal G[t,t+\\epsilon]} \\E\\left[\\left. \\int_t^{t+\\epsilon} h(s,X^{(v)}_s,v_s) ds + J(t+\\epsilon,X^{(v)}_{t+\\epsilon}) \\right| \\cF_t \\right].\n",
    "$$\n"
   ]
  },
  {
   "cell_type": "markdown",
   "metadata": {},
   "source": [
    "## The Hamilton-Jacobi-Bellman (HJB) equation\n",
    "\n",
    "The value function $J$ satisfies the terminal value problem\n",
    "\n",
    "$$\n",
    "\\p_t J(t,x) + \\min_{v\\in\\mathcal G[t]} \\{\\mathcal L^{(v)} J(t,x) + h(t,x,v) \\} = 0, \\mbox{ for } t < T\n",
    "$$\n",
    "\n",
    "with terminal condition\n",
    "\n",
    "$$\n",
    "  J(T,x) = g(x),\n",
    "$$\n",
    "\n",
    "where $\\mathcal L^{(v)} := \\frac{\\sigma^2}2 \\p_x^2 + \\mu \\p_x$ is the associated infinitesimal generator of the controlled process \n",
    "\n",
    "$$\n",
    "dX^{(v)}_t = \\mu( t,X^{(v)}_t, v_t) dt + \\sigma(t,X^{(v)}_t, v_t) dW_t.\n",
    "$$\n",
    "\n",
    "#### Note\n",
    "\n",
    "* The HJB equation is bascially an infinitesimal version of the Bellman's principle. \n",
    "* The optimal policy (control) is given implicitly in terms of the value function $J$.\n",
    "* We shall need to verify that the solution to HJB equation is indeed the value function for the control problem. This process is usually referred to as *proving the verification theorem*. "
   ]
  },
  {
   "cell_type": "markdown",
   "metadata": {},
   "source": [
    "## Stochastic control problem in discrete time - finite horizon \n",
    "\n",
    "- state variable $X_t$\n",
    "- admissible control $u_t \\in \\cA$\n",
    "- running cost: $h(t, x, u)$\n",
    "- terminal cost: $g(x)$\n",
    "\n",
    "Performance criterion\n",
    "\n",
    "$$\n",
    "g(X_T^{(u)}) + \\sum_{t=0}^{T-1} h(t, X_t^{(u)}, u_t)\n",
    "$$\n",
    "\n",
    "\n",
    "Objective function \n",
    "\n",
    "$$\n",
    "\\Eof{g(X_T^{(u)}) + \\sum_{t=0}^{T-1} h(t, X_t^{(u)}, u_t)}\n",
    "$$\n",
    "\n",
    "Value function \n",
    "\n",
    "$$\n",
    "V(t,x) = \\inf_{u\\in\\cA[t, T]} \\E_{t,x}\\left[g(X^{(u)}_T) + \\sum_{s=t}^{T-1} h(s, X^{(u)}_s, u_s)\\right]\n",
    "$$\n",
    "\n",
    "$Q$-function. For $a \\in \\cA[t, t+1]$ and $t < T$,\n",
    "\n",
    "$$\n",
    "Q(t,x, a) = h(t, x, a) + \\E_{t, x}\\left[V(t+1, X_{t+1}^{(a)})\\right]\n",
    "$$\n",
    "\n",
    "and \n",
    "\n",
    "$$\n",
    "Q(T, x, a) = g(x).\n",
    "$$\n"
   ]
  },
  {
   "cell_type": "markdown",
   "metadata": {},
   "source": [
    "## Dynamical programming principle (DPP)\n",
    "\n",
    "For $0 \\leq t < T$, the value function $V(t, x)$ satisfies the following Bellman's dynamical programming principle\n",
    "\n",
    "$$\n",
    "V(t, x) = \\inf_{u\\in\\cA[t, t+1]} \\left\\{h(t, x, u) + \\E_{t, x}\\left[ V(t+1, X^{(u)}_{t+1})\\right]\\right\\}\n",
    "$$ \n",
    "\n",
    "with terminal condition $V(T, x) = g(x)$. Note that DPP implies \n",
    "$$\n",
    "V(t, x) = \\inf_{a\\in\\cA[t, t+1]} Q(t, x, a).\n",
    "$$\n",
    "\n",
    "Hence, we also have the DPP for $Q$-function for $0 \\leq t < T$ as\n",
    "\n",
    "$$\n",
    "Q(t,x, a) = h(t, x, a) + \\E_{t, x}\\left[\\inf_{b\\in\\cA[t+1, t+2]}Q(t+1, X_{t+1}^{(a)}, b)\\right].\n",
    "$$"
   ]
  },
  {
   "cell_type": "markdown",
   "metadata": {},
   "source": [
    "## Backward induction \n",
    "\n",
    "In discrete time setting, we can evaluate the value functions by backward induction. \n",
    "\n",
    "\\begin{eqnarray*}\n",
    "V(T - 1, x) &=& \\inf_{u\\in\\cA[T-1, T]} \\E_{T-1, x}\\left[h(T-1, x, u) + V(T, X^{(u)}_T)\\right] \\\\\n",
    "&=& \\inf_{u\\in\\cA[T-1, T]} \\E_{T-1, x}\\left[h(T-1, x, u) + g(X^{(u)}_T)\\right]\n",
    "\\end{eqnarray*}\n",
    "\n",
    "Thus,\n",
    "\n",
    "\\begin{eqnarray*}\n",
    "V(T - 2, x) &=& \\inf_{u\\in\\cA[T-2, T-1]} \\E_{T-2, x}\\left[h(T-2, x, u) + V(T-1, X^{(u)}_T)\\right] \n",
    "\\end{eqnarray*}\n",
    "\n",
    "and so on and so forth ...\n"
   ]
  },
  {
   "cell_type": "markdown",
   "metadata": {},
   "source": [
    "## Stochastic control problem - infinite horizon \n",
    "\n",
    "- running cost: $h(x, u)$\n",
    "- discount factor: $\\alpha$\n",
    "\n",
    "Objective function \n",
    "\n",
    "$$\n",
    "\\Eof{\\sum_{t=0}^\\infty e^{-\\alpha t} \\, h(X_t^{(u)}, u_t)}\n",
    "$$\n",
    "\n",
    "- value function \n",
    "\n",
    "$$\n",
    "V(x) = \\inf_{u\\in\\cA} \\E_{x}\\left[\\sum_{t=0}^\\infty e^{-\\alpha t} h(X^{(u)}_t, u_t)\\right]\n",
    "$$\n",
    "\n",
    "- Dynamical programming\n",
    "\n",
    "$$\n",
    "V(x) = e^{-\\alpha} \\inf_{u\\in\\cA[0,1]} \\E_{x}\\left[h(x, u) + V(X^{(u)}_1) \\right]\n",
    "$$"
   ]
  },
  {
   "cell_type": "markdown",
   "metadata": {},
   "source": [
    "## Example 1\n",
    "\n",
    "Consider the previous problem of finding a curve from a given point to a given straight line that has minimum length. \n",
    "\n",
    "We recast the problem as a (deterministic) control problem as \n",
    "\n",
    "$$\n",
    "\\min_{u} \\int_0^T \\sqrt{1 + u_t^2} dt\n",
    "$$\n",
    "\n",
    "subject to $dx_t = u_t dt$ and $x_0 = 0$. Let $J$ be the value function, i.e., \n",
    "\n",
    "$$\n",
    "J(t, x) = \\min_{u} \\int_t^T \\sqrt{1 + u_s^2} ds\n",
    "$$\n",
    "\n",
    "for $\\dot x_s = u_s$ and $x_t = x$. \n",
    "\n",
    "The associated HJB equation for value function $J$ reads\n",
    "\n",
    "$$\n",
    "J_t + \\min_u \\left\\{ \\sqrt{1 + u^2} + u J_x \\right\\} = 0\n",
    "$$\n",
    "\n",
    "with terminal condition $J(T, x) = 0$. First order criterion implies that \n",
    "\n",
    "$$\n",
    "u = \\frac{J_x}{\\sqrt{1 - J_x^2}}.\n",
    "$$\n",
    "\n",
    "Substituting the $u$ into the HJB equation yields\n",
    "\n",
    "$$\n",
    "J_t + \\frac{1 + J_x^2}{\\sqrt{1 - J_x^2}} = 0.\n",
    "$$\n",
    "\n",
    "A complicated looking equation with a very simple solution $J(t, x) = T - t$, which is independent of $x$. Thus, the optimal policy \n",
    "\n",
    "$$\n",
    "u_t^* = \\frac{J_x}{\\sqrt{1 - J_x^2}} = 0 \n",
    "$$ \n",
    "\n",
    "for all $t$.\n"
   ]
  },
  {
   "cell_type": "markdown",
   "metadata": {},
   "source": [
    "## Example 2 - Merton's portfolio problem\n",
    "\n",
    "Quote from the [Wikipage](https://en.wikipedia.org/wiki/Merton%27s_portfolio_problem):\n",
    "\n",
    "> Merton's portfolio problem is a well known problem in continuous-time finance and in particular intertemporal portfolio choice. An investor must choose how much to consume and must allocate his wealth between stocks and a risk-free asset so as to maximize expected utility. The problem was formulated and solved by Robert C. Merton in 1969 both for finite lifetimes and for the infinite case. Research has continued to extend and generalize the model to include factors like transaction costs and bankruptcy.\n"
   ]
  },
  {
   "cell_type": "markdown",
   "metadata": {},
   "source": [
    "## HARA utility\n",
    "\n",
    "- HARA stands for *Hyperbolic Absolute Risk Aversion*.\n",
    "\n",
    "    - The Arrow-Pratt measure of absolute risk-aversion (ARA), a.k.a., the *coefficient of absolute risk aversion*, $A$ of a utility function $U$ is defined as $A = -\\frac{U''}{U'}$.\n",
    "    - The reciprocal of $A$ is referred to as risk tolerance $T = \\frac 1A$.\n",
    "    - A utility function is said to exhibit hyperbolic absolute risk aversion if and only if the risk tolerance $T$ is a linear function:\n",
    "    $$\n",
    "    T(x) = \\frac x{1 - \\gamma} + \\frac ba.\n",
    "    $$\n",
    "    \n",
    "    - HARA utility functions have the general form \n",
    "    $$\n",
    "    U(x) = \\frac{1 - \\gamma}\\gamma \\left( \\frac{a x}{1 - \\gamma} + b\\right)^\\gamma\n",
    "    $$\n",
    "\n",
    "    - HARA utility is often quoted as a power utility $U(x) = x^\\gamma$, for $\\gamma \\in [0,1]$."
   ]
  },
  {
   "cell_type": "markdown",
   "metadata": {},
   "source": [
    "## The economy\n",
    "\n",
    "- $M_t$: price of riskless asset\n",
    "\n",
    "- $S_t$: price of risky assset\n",
    "\n",
    "- $u_t$: percentage/weight of wealth invested in the risky asset at time $t$\n",
    "\n",
    "- $W_t$: investor's wealth at time $t$"
   ]
  },
  {
   "cell_type": "markdown",
   "metadata": {},
   "source": [
    "## Evolution of the assets\n",
    "\n",
    "Let $Z_t$ be a Brownian motion.\n",
    "\n",
    "- Riskless asset follows \n",
    "\n",
    "$$\n",
    "dM_t = r M_t dt, \\qquad M_0 = \\mbox{initial amount in the money account}\n",
    "$$\n",
    "\n",
    "- Risky asset follows a geometric Brownian motion/Black-Scholes model\n",
    "\n",
    "$$\n",
    "\\frac{dS_t}{S_t} = \\mu dt + \\sigma dZ_t\n",
    "$$\n",
    "\n",
    "- $r$, $\\mu$, and $\\sigma > 0$ are constants. Assume $\\mu > r > 0$."
   ]
  },
  {
   "cell_type": "markdown",
   "metadata": {},
   "source": [
    "## Self-financing strategy\n",
    "\n",
    "Let $h_t$ be the number of shares of the risky asset in the investor's porfolio and $b_t$ dollors in the riskless assets. Apparently, the investor's wealth $W_t$ at time $t$ is givevn by  \n",
    "\n",
    "$$\n",
    "W_t = h_t S_t + b_t.\n",
    "$$\n",
    "\n",
    "A trading strategy $(h_t, b_t)$ is called *self-financing* if the wealth process satisfies \n",
    "\n",
    "$$\n",
    "dW_t = h_t dS_t + r b_t dt.\n",
    "$$"
   ]
  },
  {
   "cell_type": "markdown",
   "metadata": {},
   "source": [
    "## Wealth process \n",
    "\n",
    "Define \n",
    "\n",
    "$$\n",
    "u_t = \\frac{h_t S_t}{W_t}.\n",
    "$$\n",
    "\n",
    "We rewrite the wealth in terms of $u_t$ as \n",
    "\n",
    "$$\n",
    "W_t = u_t W_t + (1 - u_t) W_t = \\frac{u_t W_t}{S_t} S_t + (1 - u_t)W_t.\n",
    "$$\n",
    "\n",
    "The condition of self-financing implies that $W_t$ satisfies\n",
    "\n",
    "\\begin{eqnarray*}\n",
    "&& dW_t = \\frac{u_t W_t}{S_t} dS_t + (1 - u_t)W_t r dt\n",
    "\\end{eqnarray*}\n",
    "\n",
    "or equivalently \n",
    "\n",
    "\\begin{eqnarray*}\n",
    "\\frac{dW_t}{W_t} &=& u_t(\\mu dt + \\sigma dZ_t) + (1 - u_t) r dt \\\\\n",
    "&=& \\{r + u_t(\\mu - r) \\} dt + u_t \\sigma dZ_t\n",
    "\\end{eqnarray*}"
   ]
  },
  {
   "cell_type": "markdown",
   "metadata": {},
   "source": [
    "## Stochastic control problem\n",
    "\n",
    "Merton's problem is recast as the following stochastic control problem\n",
    "\n",
    "$$\n",
    "\\max_{u \\in \\mathcal A} \\Eof{U(W_T)}\n",
    "$$\n",
    "\n",
    "where $W_t$ follows the controlled geometric Brownian motion\n",
    "\n",
    "\\begin{eqnarray*}\n",
    "\\frac{dW_t}{W_t} &=& \\{r + u_t(\\mu - r) \\} dt + u_t \\sigma dZ_t\n",
    "\\end{eqnarray*}\n",
    "\n",
    "### Note\n",
    "\n",
    "- $W_t$ can be written as follows.\n",
    "$$\n",
    "W_t = W_0 e^{rt + \\int_0^t \\{u_s(\\mu - r) - \\frac12 \\sigma^2 u_s^2 \\} ds + \\sigma \\int_0^t u_s dW_s}\n",
    "$$\n",
    "- $W_t \\geq 0$ "
   ]
  },
  {
   "cell_type": "markdown",
   "metadata": {},
   "source": [
    "## The value function\n",
    "\n",
    "The value function is defined as \n",
    "\n",
    "$$\n",
    "V(t,w) = \\max_{u \\mathcal A[t,T]} \\Eof{\\left. U(W_T) \\right| W_t = w}\n",
    "$$"
   ]
  },
  {
   "cell_type": "markdown",
   "metadata": {},
   "source": [
    "## Hamilton-Jacobi-Bellman (HJB) equation\n",
    "\n",
    "The value function $V(t,w)$ satisfies the HJB equation\n",
    "\n",
    "$$\n",
    "V_t + \\max_u \\left\\{ \\frac{\\sigma^2 u^2}2 w^2 V_{ww} + \\left((\\mu - r)u + r\\right) w V_w \\right\\} = 0\n",
    "$$\n",
    "\n",
    "with terminal condition $V(T, w) = U(w)$.\n",
    "\n",
    "### Note\n",
    "For general utility function $U$, it is hard, if not impossible, to find closed form solution to the above HJB equation except the HARA utility.  "
   ]
  },
  {
   "cell_type": "markdown",
   "metadata": {},
   "source": [
    "## First order criterion\n",
    "\n",
    "Assuming $V_{ww} < 0$.\n",
    "\n",
    "$$\n",
    "u = -\\frac{(\\mu - r)w V_w}{\\sigma^2 w^2 V_{ww}} = -\\frac{(\\mu - r) V_w}{\\sigma^2 w V_{ww}}\n",
    "$$\n",
    "\n",
    "The HJB equation becomes \n",
    "\n",
    "\\begin{eqnarray*}\n",
    "V_t - \\frac{(\\mu - r)^2 V_w^2}{2\\sigma^2 V_{ww}} + r w V_w = 0\n",
    "\\end{eqnarray*}\n",
    "\n",
    "with terminal condition $V(T, w) = w^\\gamma$."
   ]
  },
  {
   "cell_type": "markdown",
   "metadata": {},
   "source": [
    "## Ansatz\n",
    "\n",
    "Assume the ansatz for value function $V$ \n",
    "\n",
    "$$\n",
    "V(t,w) = a(t) w^\\gamma\n",
    "$$\n",
    "\n",
    "Plug the ansatz into the HJB equation yields \n",
    "\n",
    "\\begin{eqnarray*}\n",
    "a'(t) w^\\gamma + \\frac{(\\mu - r)^2}{2\\sigma^2} \\frac\\gamma{1 - \\gamma} a(t) w^\\gamma + r \\gamma a(t) w^\\gamma = 0\n",
    "\\end{eqnarray*}\n",
    "\n",
    "Thus, $a$ satisfies\n",
    "\n",
    "\\begin{eqnarray*}\n",
    "a'(t) + \\left\\{\\frac{(\\mu - r)^2}{2\\sigma^2} \\frac\\gamma{1 - \\gamma} + r \\gamma \\right\\} a(t) = 0\n",
    "\\end{eqnarray*}\n",
    "\n",
    "with terminal condition $a(T) = 1$.\n",
    "\n",
    "$a$ has the closed form expression\n",
    "\n",
    "$$\n",
    "a(t) = e^{\\alpha(T-t)},\n",
    "$$\n",
    "\n",
    "where $\\alpha = \\frac{(\\mu - r)^2}{2\\sigma^2} \\frac\\gamma{1 - \\gamma} + r \\gamma $. Hence, the value function $V$ is given by\n",
    "\n",
    "$$\n",
    "V(t,w) = e^{\\alpha(T - t)} w^\\gamma. \n",
    "$$\n",
    "\n",
    "### Note\n",
    "\n",
    "- $V_{ww} = e^{\\alpha(T - t)} \\gamma (\\gamma - 1) w^{\\gamma - 2} < 0$ since $\\gamma \\in (0,1)$."
   ]
  },
  {
   "cell_type": "markdown",
   "metadata": {},
   "source": [
    "## Optimal weight - the Merton ratio\n",
    "\n",
    "The optimal strategy $u^*$ reads\n",
    "\n",
    "$$\n",
    "u^* = \\frac{\\mu - r}{\\sigma^2(1 - \\gamma)}\n",
    "$$\n",
    "\n",
    "In other words, the optimal strategy is to maintain a constant percentage/weight $u^*$, determined by the Merton ratio, of the wealth invested in the risky asset. \n",
    "\n",
    "### Note\n",
    "- The higher the excess return $\\mu - r$ of the risky asset, the higher the weight $u^*$.\n",
    "\n",
    "- The higher the volatility $\\sigma$ of the risky asset, the lower the weight $u^*$. \n",
    "\n",
    "- The less risk averse the investor is, i.e., $\\gamma$ is closer to 1, the higher the weight $u^*$."
   ]
  },
  {
   "cell_type": "markdown",
   "metadata": {},
   "source": [
    "## Implementation of Merton's problem in `python`"
   ]
  },
  {
   "cell_type": "code",
   "execution_count": 1,
   "metadata": {},
   "outputs": [],
   "source": [
    "# As always, import required modules\n",
    "import numpy as np\n",
    "from numpy import sqrt, log, exp\n",
    "import matplotlib.pyplot as plt\n",
    "import seaborn as sns\n",
    "import scipy.stats as ss\n",
    "from scipy.stats import norm"
   ]
  },
  {
   "cell_type": "code",
   "execution_count": 14,
   "metadata": {},
   "outputs": [
    {
     "name": "stdout",
     "output_type": "stream",
     "text": [
      "The Merton ratio is 0.5555555555555557.\n"
     ]
    }
   ],
   "source": [
    "# parameters\n",
    "mu, r, sigma, gamma = 0.05, 0.02, 0.3, 0.4\n",
    "T = 1\n",
    "n_sim, n_steps = 10_000, 1000\n",
    "dt = T/n_steps\n",
    "\n",
    "# utility \n",
    "U = lambda w: w**gamma\n",
    "\n",
    "# optimal policy: Merton ratio\n",
    "u_st = (mu - r)/sigma**2/(1 - gamma)\n",
    "print(f'The Merton ratio is {u_st}.')"
   ]
  },
  {
   "cell_type": "markdown",
   "metadata": {},
   "source": [
    "## Create a `python` `class`"
   ]
  },
  {
   "cell_type": "code",
   "execution_count": 15,
   "metadata": {},
   "outputs": [],
   "source": [
    "# value distribution\n",
    "# inputs\n",
    "# r, mu, sigma: risk free rate, expected return, volatility\n",
    "# W0, T: initial wealth, investment horizon\n",
    "# u: policy function/control\n",
    "# U: utility\n",
    "\n",
    "class ValueDistribution:\n",
    "    def __init__(self, r, mu, sigma, U, u, W0=10_000, T=1, n_sim=10_000, n_steps=100):\n",
    "        self.r, self.mu, self.sigma, self.T = r, mu, sigma, T\n",
    "        self.W0, self.u, self.U = W0, u, U\n",
    "        self.n_sim, self.n_steps = n_sim, n_steps\n",
    "        dt = self.T/self.n_steps\n",
    "        # initialize W\n",
    "        self.W = np.ones([self.n_sim, self.n_steps+1])*self.W0\n",
    "        \n",
    "        # simulation \n",
    "        for i in range(self.n_steps):\n",
    "            dZ = norm.rvs(size=self.n_sim)\n",
    "            dZ = dZ - dZ.mean()\n",
    "            dZ = dZ/dZ.std()\n",
    "            dZ = dZ*np.sqrt(dt)\n",
    "            drift = self.r + (self.mu - self.r)*self.u(self.W[:,i]) \\\n",
    "                - self.sigma**2*self.u(self.W[:,i])**2/2\n",
    "            diffusion = self.u(self.W[:,i])*self.sigma \n",
    "            self.W[:,i+1] = self.W[:,i]*np.exp(drift*dt + diffusion*dZ)\n",
    "        self.V = self.U(self.W[:,-1])\n",
    "        self.value = self.V.mean()\n",
    "        print(f'Simulated expected value under the given policy is {self.value}.')\n",
    "        \n",
    "    def W_hist(self):\n",
    "        sns.histplot(self.W[:,-1], stat='density', bins=50, element='step', color='orange')\n",
    "        plt.title('Histogram of wealth', fontsize=18);\n",
    "        return None\n",
    "    \n",
    "    def V_hist(self):\n",
    "        sns.histplot(self.V, stat='density', bins=50, element='step', color='orange')\n",
    "        plt.title('Histogram of objective', fontsize=18);\n",
    "        return None\n",
    "    \n",
    "    def sample_path(self, n_path=0.5):\n",
    "        if n_path == 0.5:\n",
    "            n_path = np.random.choice(self.n_sim)\n",
    "        dt = self.T/self.n_steps\n",
    "        t = np.arange(0, self.T+dt, dt)\n",
    "        plt.plot(t, self.W[n_path,:], label=f'Sample path number {n_path}')\n",
    "        plt.hlines(y=self.W0, xmin=0, xmax=t[-1], ls='dotted', color='k')\n",
    "        plt.xlabel('$t$', fontsize=15)\n",
    "        plt.ylabel('$W$', fontsize=15)\n",
    "        plt.title('Wealth sample path', fontsize=18)\n",
    "        plt.legend();\n",
    "    \n",
    "    def __call__(self):\n",
    "        return self.value"
   ]
  },
  {
   "cell_type": "markdown",
   "metadata": {},
   "source": [
    "### Policy 1"
   ]
  },
  {
   "cell_type": "code",
   "execution_count": 16,
   "metadata": {},
   "outputs": [
    {
     "name": "stdout",
     "output_type": "stream",
     "text": [
      "Simulated expected value under the given policy is 40.16591597360768.\n"
     ]
    }
   ],
   "source": [
    "# policy function \n",
    "u1 = lambda w: 0.01*w**0.5\n",
    "\n",
    "# initial wealth\n",
    "W0 = 10_000\n",
    "\n",
    "# instantiate a class\n",
    "ve1 = ValueDistribution(r, mu, sigma, U, u1, W0=W0, n_steps=1000)"
   ]
  },
  {
   "cell_type": "code",
   "execution_count": 17,
   "metadata": {},
   "outputs": [
    {
     "data": {
      "image/png": "[encoded data removed]",
      "text/plain": [
       "<Figure size 432x288 with 1 Axes>"
      ]
     },
     "metadata": {
      "needs_background": "light"
     },
     "output_type": "display_data"
    }
   ],
   "source": [
    "ve1.W_hist()"
   ]
  },
  {
   "cell_type": "code",
   "execution_count": 18,
   "metadata": {},
   "outputs": [
    {
     "data": {
      "image/png": "[encoded data removed]",
      "text/plain": [
       "<Figure size 432x288 with 1 Axes>"
      ]
     },
     "metadata": {
      "needs_background": "light"
     },
     "output_type": "display_data"
    }
   ],
   "source": [
    "ve1.V_hist()"
   ]
  },
  {
   "cell_type": "code",
   "execution_count": 20,
   "metadata": {},
   "outputs": [
    {
     "data": {
      "image/png": "[encoded data removed]",
      "text/plain": [
       "<Figure size 432x288 with 1 Axes>"
      ]
     },
     "metadata": {
      "needs_background": "light"
     },
     "output_type": "display_data"
    }
   ],
   "source": [
    "ve1.sample_path()"
   ]
  },
  {
   "cell_type": "markdown",
   "metadata": {},
   "source": [
    "### Policy 2"
   ]
  },
  {
   "cell_type": "code",
   "execution_count": 22,
   "metadata": {},
   "outputs": [
    {
     "name": "stdout",
     "output_type": "stream",
     "text": [
      "Simulated expected value under the given policy is 39.366898034908544.\n"
     ]
    }
   ],
   "source": [
    "# policy function \n",
    "u2 = lambda w: 2\n",
    "\n",
    "# initial wealth\n",
    "W0 = 10_000\n",
    "\n",
    "# instantiate a class\n",
    "ve2 = ValueDistribution(r, mu, sigma, U, u2, n_steps=1000)"
   ]
  },
  {
   "cell_type": "code",
   "execution_count": 23,
   "metadata": {},
   "outputs": [
    {
     "data": {
      "image/png": "[encoded data removed]",
      "text/plain": [
       "<Figure size 432x288 with 1 Axes>"
      ]
     },
     "metadata": {
      "needs_background": "light"
     },
     "output_type": "display_data"
    }
   ],
   "source": [
    "ve2.W_hist()"
   ]
  },
  {
   "cell_type": "code",
   "execution_count": 24,
   "metadata": {},
   "outputs": [
    {
     "data": {
      "image/png": "[encoded data removed]",
      "text/plain": [
       "<Figure size 432x288 with 1 Axes>"
      ]
     },
     "metadata": {
      "needs_background": "light"
     },
     "output_type": "display_data"
    }
   ],
   "source": [
    "ve2.V_hist()"
   ]
  },
  {
   "cell_type": "code",
   "execution_count": 25,
   "metadata": {},
   "outputs": [
    {
     "data": {
      "image/png": "[encoded data removed]",
      "text/plain": [
       "<Figure size 432x288 with 1 Axes>"
      ]
     },
     "metadata": {
      "needs_background": "light"
     },
     "output_type": "display_data"
    }
   ],
   "source": [
    "ve2.sample_path()"
   ]
  },
  {
   "cell_type": "markdown",
   "metadata": {},
   "source": [
    "### Optimal policy, the Merton ratio"
   ]
  },
  {
   "cell_type": "code",
   "execution_count": 26,
   "metadata": {},
   "outputs": [
    {
     "name": "stdout",
     "output_type": "stream",
     "text": [
      "The Merton ratio is 0.5555555555555557.\n",
      "Simulated expected value under the given policy is 40.264042194294426.\n"
     ]
    }
   ],
   "source": [
    "# Merton ratio\n",
    "u_st = (mu - r)/sigma**2/(1 - gamma)\n",
    "print(f'The Merton ratio is {u_st}.')\n",
    "\n",
    "# optimal policy function \n",
    "u_opt = lambda w: u_st\n",
    "\n",
    "# initial wealth\n",
    "W0 = 10_000\n",
    "\n",
    "# instantiate a class\n",
    "ve_opt = ValueDistribution(r, mu, sigma, U, u_opt, n_steps=1000)"
   ]
  },
  {
   "cell_type": "code",
   "execution_count": 27,
   "metadata": {},
   "outputs": [
    {
     "data": {
      "image/png": "[encoded data removed]",
      "text/plain": [
       "<Figure size 432x288 with 1 Axes>"
      ]
     },
     "metadata": {
      "needs_background": "light"
     },
     "output_type": "display_data"
    }
   ],
   "source": [
    "ve_opt.sample_path()"
   ]
  },
  {
   "cell_type": "markdown",
   "metadata": {},
   "source": [
    "## Histogram of value"
   ]
  },
  {
   "cell_type": "code",
   "execution_count": 28,
   "metadata": {},
   "outputs": [
    {
     "data": {
      "image/png": "[encoded data removed]",
      "text/plain": [
       "<Figure size 648x432 with 1 Axes>"
      ]
     },
     "metadata": {
      "needs_background": "light"
     },
     "output_type": "display_data"
    }
   ],
   "source": [
    "plt.figure(figsize=(9, 6))\n",
    "sns.histplot(ve2.V, stat='density', element='step', label='$u_2$')\n",
    "sns.histplot(ve_opt.V, stat='density', element='step', label='optimal', color='orange')\n",
    "sns.histplot(ve1.V, stat='density', element='step', color='lightgreen', label='$u_1$')\n",
    "plt.legend();"
   ]
  },
  {
   "cell_type": "markdown",
   "metadata": {},
   "source": [
    "## Histogram for final wealth"
   ]
  },
  {
   "cell_type": "code",
   "execution_count": 29,
   "metadata": {},
   "outputs": [
    {
     "data": {
      "image/png": "[encoded data removed]",
      "text/plain": [
       "<Figure size 648x432 with 1 Axes>"
      ]
     },
     "metadata": {
      "needs_background": "light"
     },
     "output_type": "display_data"
    }
   ],
   "source": [
    "plt.figure(figsize=(9, 6))\n",
    "sns.histplot(ve2.W[:,-1], stat='density', element='step', label='$u_2$')\n",
    "sns.histplot(ve_opt.W[:,-1], stat='density', element='step', label='optimal', color='orange')\n",
    "sns.histplot(ve1.W[:,-1], stat='density', element='step', color='lightgreen', label='$u_1$')\n",
    "plt.legend();"
   ]
  },
  {
   "cell_type": "markdown",
   "metadata": {},
   "source": [
    "## Linear-quadratic (LQ) control problem\n",
    "\n",
    "An important class of control problems with solutions in closed form is the *LQ* problems. \n",
    "A control problem is called an LQ problem if its state variables has linear drift and performance criterion is quadratic in running and terminal rewards. Specifically, the state variables $\\bX_t \\in \\R^d$ and control $\\bu_t \\in \\R^\\ell$ are driven by\n",
    "\n",
    "$$\n",
    "d\\bX_t = (\\mbA \\bX_t + \\mbB \\bu_t) dt + \\bSigma d\\bW_t, \n",
    "$$\n",
    "\n",
    "where $\\bA$ is a $d\\times d$ matrix, $\\bB$ a $d\\times\\ell$ matrix, $\\bSigma$ a $d\\times n$ matrix, and $\\bW_t$ is an $n$-dimensional Brownian motion. \n",
    "The performance criterion is given by \n",
    "\n",
    "$$\n",
    "\\bX_T' \\mbP \\bX_T + \\int_0^T \\left(\\bX_t' \\mbQ \\bX_t + 2\\bu_t' \\mbS \\bX_t + \\bu_t' \\mbR \\bu_t \\right) dt, \n",
    "$$\n",
    "\n",
    "where $\\mbP$, $\\mbQ$ are $d\\times d$ symmetric matrices, $\\mbR$ an $\\ell\\times\\ell$ symmetric positive definite matrix, and $\\mbS$ an $\\ell\\times d$ matrix."
   ]
  },
  {
   "cell_type": "markdown",
   "metadata": {},
   "source": [
    "## HJB equation\n",
    "\n",
    "Let $V$ be the value function\n",
    "\n",
    "$$\n",
    "V(t, \\bx) = \\min_{\\bu} \\Eof{\\left. \\bX_T' \\mbP \\bX_T + \\int_t^T \\left(\\bX_s' \\mbQ \\bX_s + 2\\bu_s' \\mbS \\bX_s + \\bu_s' \\mbR \\bu_s \\right) ds\\right|\\bX_t = \\bx}.\n",
    "$$\n",
    "\n",
    "$V$ satisfies the following HJB equation\n",
    "\n",
    "$$\n",
    "V_t + \\frac12\\tr(\\bSigma\\bSigma'\\nabla^2 V) + \\min_{\\bu}\\left\\{(\\mbA \\bx + \\mbB \\bu)' \\nabla V + \\bx'\\mbQ\\bx + 2\\bu' \\mbS \\bx + \\bu_t' \\mbR \\bu_t \\right\\} = 0 \n",
    "$$\n",
    "\n",
    "with terminal condition $V(T, \\bx) = \\bx'\\mbP\\bx$.\n",
    "\n",
    "#### Note\n",
    "- $\\mbR$ is assumed positive definite. "
   ]
  },
  {
   "cell_type": "markdown",
   "metadata": {},
   "source": [
    "## First order criterion\n",
    "\n",
    "Assume $\\mbR$ is positive definite. The first order criterion implies \n",
    "\n",
    "$$\n",
    "2 \\mbR \\bu + \\mbB'\\nabla V + 2\\mbS \\bx = 0.  \n",
    "$$\n",
    "\n",
    "Thus, the optimal policy is given in terms of value function by \n",
    "\n",
    "$$\n",
    "\\bu = - \\frac12 \\mbR^{-1} (\\mbB'\\nabla V + 2\\mbS \\bx).\n",
    "$$"
   ]
  },
  {
   "cell_type": "markdown",
   "metadata": {},
   "source": [
    "## HJB equation again\n",
    "\n",
    "We have \n",
    "\n",
    "\\begin{eqnarray*}\n",
    "&& \\bu' \\mbB' \\nabla V + \\bu'\\mbR\\bu + 2 \\bu' \\mbS \\bx \\\\\n",
    "&=& -\\frac12 (\\nabla V' \\mbB + 2\\bx'\\mbS')\\mbR^{-1} \\mbB' \\nabla V + \\frac14 (\\nabla V' \\mbB + 2\\bx'\\mbS') \\mbR^{-1} \\mbR \\mbR^{-1} (\\mbB'\\nabla V + 2\\mbS\\bx) - (\\nabla V'\\mbB + 2 \\bx'\\mbS')\\mbR^{-1} \\mbS \\bx \\\\\n",
    "&=& -\\frac14 \\nabla V' \\mbB \\mbR^{-1} \\mbB' \\nabla V - \\nabla V'\\mbB\\mbR^{-1} \\mbS \\bx -  \\bx'\\mbS' \\mbR^{-1} \\mbS \\bx \n",
    "\\end{eqnarray*}\n",
    "\n",
    "Substituting into the HJB equation yields \n",
    "\n",
    "\\begin{eqnarray*}\n",
    "&& V_t + \\frac12\\tr(\\bSigma\\bSigma'\\nabla^2 V) + \\max_{\\bu}\\left\\{(\\mbA \\bx + \\mbB \\bu)' \\nabla V + \\bx'\\mbQ\\bx + \\bu'\\mbR\\bu + 2 \\bu' \\mbS \\bx\\right\\} \\\\\n",
    "&=& V_t + \\frac12\\tr(\\bSigma\\bSigma'\\nabla^2 V) + \\bx'\\mbA' \\nabla V + \\bx'\\mbQ\\bx - \\frac14 \\nabla V' \\mbB \\mbR^{-1} \\mbB' \\nabla V - \\nabla V'\\mbB\\mbR^{-1} \\mbS \\bx -  \\bx'\\mbS' \\mbR^{-1} \\mbS \\bx\n",
    "\\end{eqnarray*}"
   ]
  },
  {
   "cell_type": "markdown",
   "metadata": {},
   "source": [
    "## Ansatz\n",
    "\n",
    "Assume the ansatz for value function $V(t, \\bx) = \\bx' H_1 \\bx + H_0$. We have\n",
    "\n",
    "\\begin{eqnarray*}\n",
    "&& V_t = \\bx' \\dot H_1 \\bx + \\dot H_0, \\\\\n",
    "&& \\nabla V = 2 H_1 \\bx, \\\\\n",
    "&& \\nabla^2 V = 2 H_1.\n",
    "\\end{eqnarray*}\n",
    "\n",
    "Plugging into the HJB equation implies\n",
    "\n",
    "\\begin{eqnarray*}\n",
    "&& V_t + \\frac12\\tr(\\bSigma\\bSigma'\\nabla^2 V) + \\bx'\\mbA' \\nabla V + \\bx'\\mbQ\\bx - \\frac14 \\nabla V' \\mbB \\mbR^{-1} \\mbB' \\nabla V - \\nabla V'\\mbB\\mbR^{-1} \\mbS \\bx - \\bx'\\mbS' \\mbR^{-1} \\mbS \\bx \\\\\n",
    "&=& \\bx' \\dot H_1 \\bx + \\dot H_0 + \\tr(\\bSigma\\bSigma'H_1) + 2 \\bx' \\mbA' H_1 \\bx + \\bx' \\mbQ\\bx - \\bx' H_1\\mbB\\mbR^{-1}\\mbB'H_1 \\bx - 2\\bx' H_1 \\mbB \\mbR^{-1}\\mbS \\bx - \\bx'\\mbS' \\mbR^{-1}\\mbS \\bx \\\\\n",
    "&=& \\bx'\\dot H_1 \\bx + \\dot H_0 + \\tr(\\bSigma\\bSigma'H_1) + \\bx' \\mbA' H_1 \\bx + \\bx' H_1 \\mbA \\bx + \\bx' \\mbQ\\bx - \\bx' H_1\\mbB\\mbR^{-1}\\mbB'H_1 \\bx \\\\\n",
    "&& - \\bx' H_1 \\mbB \\mbR^{-1}\\mbS \\bx - \\bx' \\mbS' \\mbR^{-1} \\mbB' H_1\\bx - \\bx'\\mbS' \\mbR^{-1}\\mbS \\bx. \n",
    "\\end{eqnarray*}\n",
    "\n",
    "The optimal (feedback) control $\\bu^*$ becomes\n",
    "\n",
    "$$\n",
    "\\bu^* = - \\frac12 \\mbR^{-1} \\mbB'\\nabla V = - \\mbR^{-1} (\\mbB' H_1 + \\mbS)\\bx\n",
    "$$"
   ]
  },
  {
   "cell_type": "markdown",
   "metadata": {},
   "source": [
    "## Matrix Riccati equation\n",
    "\n",
    "Compare the coefficients and obtain the matrix Riccati equation\n",
    "\n",
    "\\begin{eqnarray*}\n",
    "&& \\dot H_1 - H_1\\mbB\\mbR^{-1}\\mbB'H_1 + (\\mbA - \\mbB\\mbR^{-1}\\mbS)' H_1 + H_1 (\\mbA - \\mbB\\mbR^{-1}\\mbS) + \\mbQ - \\mbS'\\mbR^{-1}\\mbS = 0 \\\\\n",
    "&& \\dot H_0 + \\tr(\\bSigma\\bSigma'H_1) = 0\n",
    "\\end{eqnarray*}\n",
    "\n",
    "with terminal condition $H_1(T) = \\mbP$ and $H_0(T) = 0$."
   ]
  },
  {
   "cell_type": "markdown",
   "metadata": {},
   "source": [
    "## Solution to the Riccati equation\n",
    "\n",
    "The solution to the matrix Riccati equation for $H_1$ can be obtained by \n",
    "\n",
    "$$\n",
    "H_1 = M N^{-1}, \n",
    "$$\n",
    "\n",
    "where $M$, $N$ satisfy the linear ODEs\n",
    "\n",
    "$$\n",
    "\\frac{d}{dt} \\left[\\begin{array}{c} M \\\\ N \\end{array}\\right] =\n",
    "\\left[\\begin{array}{cc} -(\\mbA - \\mbB\\mbR^{-1}\\mbS) & -\\mbQ + \\mbS'\\mbR^{-1}\\mbS \\\\ \n",
    "-\\mbB \\mbR^{-1} \\mbB' & \\mbA - \\mbB\\mbR^{-1}\\mbS\n",
    "\\end{array}\\right] \\,\n",
    "\\left[\\begin{array}{c} M \\\\ N \\end{array}\\right]\n",
    "$$\n",
    "\n",
    "with terminal conditions $M_T = H_1(T)$ and $N_T = I$."
   ]
  },
  {
   "cell_type": "markdown",
   "metadata": {},
   "source": [
    "The solution to the linear system can be written as \n",
    "\n",
    "$$\n",
    "\\left[\\begin{array}{c} M \\\\ N\\end{array}\\right] =e^{-(T-t)\\Psi} \\,\n",
    "\\left[\\begin{array}{c} \\mbP \\\\ I \\end{array}\\right]\n",
    "$$\n",
    "\n",
    "where \n",
    "\n",
    "$$\n",
    "\\Psi = \\left[\\begin{array}{cc} -(\\mbA - \\mbB\\mbR^{-1}\\mbS) & -\\mbQ + \\mbS'\\mbR^{-1}\\mbS \\\\ \n",
    "-\\mbB \\mbR^{-1} \\mbB' & \\mbA - \\mbB\\mbR^{-1}\\mbS\n",
    "\\end{array}\\right]\n",
    "$$"
   ]
  },
  {
   "cell_type": "markdown",
   "metadata": {},
   "source": [
    "## Appendix (Optional)"
   ]
  },
  {
   "cell_type": "markdown",
   "metadata": {},
   "source": [
    "## Pontryagin maximum principle\n",
    "\n",
    "Consider the deterministic control problem\n",
    "\n",
    "$$\n",
    "\\min_{u_t \\in \\cA} g(x_T) + \\int_0^T h(s, x_s, u_s) ds\n",
    "$$\n",
    "\n",
    "where $x_t$ is driven by \n",
    "\n",
    "$$\n",
    "\\dot x_t = b(t, x_t, u_t), \\qquad x_0 = x_0.\n",
    "$$"
   ]
  },
  {
   "cell_type": "markdown",
   "metadata": {},
   "source": [
    "## Lagrange multiplier process\n",
    "\n",
    "Introducing the Lagrange multiplier $p_t$, the control problem is then recast as \n",
    "\n",
    "$$\n",
    "\\min_{x, u, p} \\left\\{g(x_T) + \\int_0^T h(t, x_t, u_t) dt + \\int_0^T p_t\\left[\\dot x_t - b(t, x_t, u_t)\\right] dt \\right\\}\n",
    "$$\n"
   ]
  },
  {
   "cell_type": "markdown",
   "metadata": {},
   "source": [
    "## First order criterion\n",
    "\n",
    "The first order criterion with respect to $x$ implies that \n",
    "\n",
    "\\begin{eqnarray*}\n",
    "&& \\left.\\frac{d}{d\\epsilon}\\right|_{\\epsilon=0} \\left\\{g(x_T + \\epsilon \\varphi_T) + \\int_0^T h(t, x_t + \\epsilon\\varphi_t, u_t) dt + \\int_0^T p_t\\left[\\dot x_t + \\epsilon \\dot \\varphi_t - b(t, x_t+\\epsilon\\varphi_t, u_t)\\right] dt \\right\\} \\\\\n",
    "&=& g'(x_T)\\varphi_T + \\int_0^T h_x \\varphi_t dt + \\int_0^T p_t\\left[\\dot \\varphi_t - b_x\\varphi_t\\right] dt \\\\\n",
    "&=& g'(x_T)\\varphi_T + \\int_0^T (-\\dot p_t + h_x - p_tb_x) \\varphi_t dt + \\left. p_t\\varphi_t \\right|_0^T \\\\\n",
    "&=& \\left\\{g'(x_T) + p_T\\right\\}\\varphi_T + \\int_0^T (-\\dot p_t + h_x - p_tb_x) \\varphi_t dt \n",
    "\\end{eqnarray*}\n",
    "since $\\varphi_0 = 0$. Since perturbation $\\varphi$ is arbitrary, we conclude that $p_t$ satisfies the ODE \n",
    "\n",
    "$$\n",
    "\\dot p_t = h_x(t, x_t, u_t) - p_t b_x(t, x_t, u_t)\n",
    "$$\n",
    "\n",
    "with terminal condition $p_T = -g'(x_T)$. \n",
    "\n",
    "#### Note\n",
    "- The last ODE for the \"Lagrange multiplier\" $p_t$ is also referred to as the <font color=blue>*adjoint equation*</font>. \n",
    "- Optimal control $u^*_t$ is given in feedback form by $u^* = \\argmin_u \\left\\{h(t, x, u) - p b(t, x, u)\\right\\}$. \n",
    "- First order criterior with respect to $p$ yields the \"constraint\" $\\dot x_t = b(t, x_t, u_t)$."
   ]
  },
  {
   "cell_type": "markdown",
   "metadata": {},
   "source": [
    "## Pontryagin's maximum principle - putting things together\n",
    "\n",
    "The following system of equations is the renowned Pontryagin's maximum principle\n",
    "\n",
    "\\begin{eqnarray*}\n",
    "&& \\dot x_t = b(t, x_t, u_t^*) \\\\\n",
    "&& \\dot p_t= h_x(t, x_t, u_t^*) - p_t b_x(t, x_t, u_t^*), \\\\\n",
    "&& u_t^* = \\argmin_u \\left\\{h(t, x_t, u) - p_t b(t, x_t, u)\\right\\}\n",
    "\\end{eqnarray*}\n",
    "\n",
    "with initial condition $x_0 = x_0$ and terminal condition $p_T = -g'(x_T)$.\n",
    "\n",
    "The above system of equations are usually written in terms of a Hamiltonian. Specifically, define the Hamiltonian $H$ as \n",
    "\n",
    "$$\n",
    "H(t, x, u, p) = h(t, x, u) - b(t, x, u)p.\n",
    "$$\n",
    "\n",
    "Then the system of ODEs is given by \n",
    "\n",
    "\\begin{eqnarray*}\n",
    "&& \\dot x_t = - H_p(t, x_t, u^*_t, p_t), \\\\\n",
    "&& \\dot p_t = H_x(t, x_t, u^*_t, p_t), \\\\\n",
    "&& u_t^* = \\argmin_u H(t, x, u, p)\n",
    "\\end{eqnarray*}\n",
    "\n",
    "\n",
    "#### Note \n",
    "The stochastic version of the Pontryagin's maximum principle is theoretically more involved. "
   ]
  },
  {
   "cell_type": "markdown",
   "metadata": {},
   "source": [
    "\n",
    "## Stochastic maximum principle\n",
    "\n",
    "\\begin{eqnarray*}\n",
    "&& dx_t = b(t, x_t, u_t) dt + \\sigma(t, x_t, u_t) dW_t\\\\\n",
    "&& dp_t = \\left\\{h_x(t, x_t, u_t) - p_t b_x(t, x_t, u_t) - q_t \\sigma_x(t, x_t, u_t) \\right\\} dt + q_t dW_t \\\\\n",
    "&& u_t = \\argmax_u \\{h(t, x_t, u_t) - p_t b(t, x_t, u) - q_t \\sigma(t, x_t, u)\\}\n",
    "\\end{eqnarray*}\n",
    "\n",
    "with initial condition $x_0 = x_0$ and terminal condition $p_T = -g'(x_T)$\n",
    "\n",
    "#### Note\n",
    "- Stochastic maximum principle consists of a system of forward and backward SDEs."
   ]
  }
 ],
 "metadata": {
  "celltoolbar": "Slideshow",
  "kernelspec": {
   "display_name": "Python 3 (ipykernel)",
   "language": "python",
   "name": "python3"
  },
  "language_info": {
   "codemirror_mode": {
    "name": "ipython",
    "version": 3
   },
   "file_extension": ".py",
   "mimetype": "text/x-python",
   "name": "python",
   "nbconvert_exporter": "python",
   "pygments_lexer": "ipython3",
   "version": "3.11.3"
  },
  "toc": {
   "base_numbering": 1,
   "nav_menu": {},
   "number_sections": false,
   "sideBar": true,
   "skip_h1_title": false,
   "title_cell": "Table of Contents",
   "title_sidebar": "Contents",
   "toc_cell": false,
   "toc_position": {},
   "toc_section_display": true,
   "toc_window_display": false
  },
  "varInspector": {
   "cols": {
    "lenName": 16,
    "lenType": 16,
    "lenVar": 40
   },
   "kernels_config": {
    "python": {
     "delete_cmd_postfix": "",
     "delete_cmd_prefix": "del ",
     "library": "var_list.py",
     "varRefreshCmd": "print(var_dic_list())"
    },
    "r": {
     "delete_cmd_postfix": ") ",
     "delete_cmd_prefix": "rm(",
     "library": "var_list.r",
     "varRefreshCmd": "cat(var_dic_list()) "
    }
   },
   "types_to_exclude": [
    "module",
    "function",
    "builtin_function_or_method",
    "instance",
    "_Feature"
   ],
   "window_display": false
  }
 },
 "nbformat": 4,
 "nbformat_minor": 2
}
