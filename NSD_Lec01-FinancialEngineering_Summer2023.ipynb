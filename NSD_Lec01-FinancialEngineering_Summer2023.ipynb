{
 "cells": [
  {
   "cell_type": "markdown",
   "metadata": {
    "slideshow": {
     "slide_type": "slide"
    }
   },
   "source": [
    "\n",
    "# Topics in Quantitative Finance, Summer 2023\n",
    "\n",
    "## Lecture 1: Financial engineering in a nutshell\n",
    "\n",
    "<br>\n",
    "<br>\n",
    "\n",
    "<center>\n",
    "<font size=5, color=darkblue> Tai-Ho Wang (王 太和)</font>\n",
    "</center>\n",
    "<img src=\"http://mfe.baruch.cuny.edu/wp-content/uploads/2016/04/MFE-Logo.jpg\" align = \"center\" width=450>\n",
    "\n",
    "$$\n",
    "\\newcommand{\\bea}{\\begin{eqnarray}}\n",
    "\\newcommand{\\eea}{\\end{eqnarray}}\n",
    "\\newcommand{\\supp}{\\mathrm{supp}}\n",
    "\\newcommand{\\F}{\\mathcal{F} }\n",
    "\\newcommand{\\cF}{\\mathcal{F} }\n",
    "\\newcommand{\\E}{\\mathbb{E} }\n",
    "\\newcommand{\\Eof}[1]{\\mathbb{E}\\left[ #1 \\right]}\n",
    "\\newcommand{\\Etof}[1]{\\mathbb{E}_t\\left[ #1 \\right]}\n",
    "\\def\\Cov{{ \\mbox{Cov} }}\n",
    "\\def\\Var{{ \\mbox{Var} }}\n",
    "\\newcommand{\\1}{\\mathbf{1} }\n",
    "\\newcommand{\\p}{\\partial}\n",
    "\\newcommand{\\PP}{\\mathbb{P} }\n",
    "\\newcommand{\\Pof}[1]{\\mathbb{P}\\left[ #1 \\right]}\n",
    "\\newcommand{\\QQ}{\\mathbb{Q} }\n",
    "\\newcommand{\\R}{\\mathbb{R} }\n",
    "\\newcommand{\\DD}{\\mathbb{D} }\n",
    "\\newcommand{\\HH}{\\mathbb{H} }\n",
    "\\newcommand{\\spn}{\\mathrm{span} }\n",
    "\\newcommand{\\cov}{\\mathrm{cov} }\n",
    "\\newcommand{\\HS}{\\mathcal{L}_{\\mathrm{HS}} }\n",
    "\\newcommand{\\Hess}{\\mathrm{Hess} }\n",
    "\\newcommand{\\trace}{\\mathrm{trace} }\n",
    "\\newcommand{\\LL}{\\mathcal{L} }\n",
    "\\newcommand{\\s}{\\mathcal{S} }\n",
    "\\newcommand{\\ee}{\\mathcal{E} }\n",
    "\\newcommand{\\ff}{\\mathcal{F} }\n",
    "\\newcommand{\\hh}{\\mathcal{H} }\n",
    "\\newcommand{\\bb}{\\mathcal{B} }\n",
    "\\newcommand{\\dd}{\\mathcal{D} }\n",
    "\\newcommand{\\g}{\\mathcal{G} }\n",
    "\\newcommand{\\half}{\\frac{1}{2} }\n",
    "\\newcommand{\\T}{\\mathcal{T} }\n",
    "\\newcommand{\\bit}{\\begin{itemize}}\n",
    "\\newcommand{\\eit}{\\end{itemize}}\n",
    "\\newcommand{\\beq}{\\begin{equation}}\n",
    "\\newcommand{\\eeq}{\\end{equation}}\n",
    "\\newcommand{\\tr}{\\mbox{tr}}\n",
    "$$\n"
   ]
  },
  {
   "cell_type": "markdown",
   "metadata": {
    "slideshow": {
     "slide_type": "slide"
    }
   },
   "source": [
    "## Coordinates\n",
    "\n",
    "* Email: tai-ho.wang@baruch.cuny.edu\n",
    "* Webpage: [mfe.baruch.cuny.edu/tai-ho.wang](https://mfe.baruch.cuny.edu/tai-ho.wang)\n",
    "\n",
    "\n",
    "## Teaching Assitants\n",
    "\n",
    "<font size=3.5, color=darkblue>郭鵬</font>\n",
    "* 北大數院博士生\n",
    "* 江湖人稱郭大俠\n",
    "* Email: g.p@pku.edu.cn\n",
    "\n",
    "<font size=3.5, color=darkblue>姜佳文</font>\n",
    "* 美國康涅狄格大學金融專業本科生\n",
    "* 塵世間迷途小書僮\n",
    "* Email: 1164063524@qq.com"
   ]
  },
  {
   "cell_type": "markdown",
   "metadata": {
    "slideshow": {
     "slide_type": "slide"
    }
   },
   "source": [
    "## Aims of this course\n",
    "\n",
    "* To be familiar with the financial products and the modeling of their prices\n",
    "* To be familiar with well-known pricing models.\n",
    "* To be familiar with the principle of no arbitrage and its applications\n",
    "* To grasp theories of probability and statistics underpinning the models\n",
    "* To gain experiences in working with Jupyter notebook and programming in `python`"
   ]
  },
  {
   "cell_type": "markdown",
   "metadata": {
    "slideshow": {
     "slide_type": "slide"
    }
   },
   "source": [
    "## Agenda\n",
    "\n",
    "- Financial market and financial product\n",
    "- What is financial engineering?\n",
    "- $\\mathbb{P}$ quant v.s. $\\mathbb{Q}$ quant\n",
    "- Theory of pricing\n",
    "    - Law of one price\n",
    "    - Monotonicity\n",
    "    - Linearity\n",
    "- Principle of no arbitrage\n",
    "- Brief introduction to Jupyter notebook and programming in Python"
   ]
  },
  {
   "cell_type": "markdown",
   "metadata": {},
   "source": [
    "## Online resources\n",
    "\n",
    "- [Investopedia](https://www.investopedia.com/)\n",
    "- [Wikipedia](https://www.wikipedia.org/)\n",
    "- [Quantopian](https://www.quantopian.com/)\n",
    "- [Advanced Risk and Portfolio Management](https://www.arpm.co/)"
   ]
  },
  {
   "cell_type": "markdown",
   "metadata": {},
   "source": [
    "## Financial market\n",
    "\n",
    "Quotes from [Investopedia](https://www.investopedia.com):\n",
    "\n",
    "*A financial market is a broad term describing any marketplace where buyers and sellers participate in the trade of assets such as equities, bonds, currencies and derivatives. Financial markets are typically defined by having transparent pricing, basic regulations on trading, costs and fees, and market forces determining the prices of securities that trade.*\n",
    "\n",
    "Types of financial markets and their roles\n",
    "- Captial market\n",
    "    - bond market\n",
    "    - equity market\n",
    "- Derivative market\n",
    "- Forex (foreign exchange) and interbank market\n",
    "- Primary vs secondary market\n",
    "    - A primary market issues new securities on an exchange.\n",
    "    - The secondary market is where investors purchase securities or assets from other investors, rather than from issuing companies themselves.\n",
    "- OTC (over-the-counter) market\n",
    "- Third and fourth market\n",
    "\n",
    "For more details, visit\n",
    "[Types of Financial Markets and their roles](https://www.investopedia.com/walkthrough/corporate-finance/1/financial-markets.aspx) at [Investopedia](https://www.investopedia.com).\n",
    "\n",
    "We will only cover the equity and fixed income markets. \n"
   ]
  },
  {
   "cell_type": "markdown",
   "metadata": {},
   "source": [
    "## Financial products\n",
    "\n",
    "- Primary or underlying\n",
    "    - Equity \n",
    "    - Fixed income\n",
    "    - Commodity\n",
    "    - Credit\n",
    "\n",
    "- Secondary or derivatives\n",
    "    - Forward and futures\n",
    "    - Options\n",
    "    - Swaps "
   ]
  },
  {
   "cell_type": "markdown",
   "metadata": {},
   "source": [
    "## What is financial engineering?\n",
    "\n",
    "According to [this article](https://www.iaqf.org/financial-engineering) in the website of Internation Association for Quantitative Finance (IAQF) (used to be named as IAFE), financial engineering is \n",
    "\n",
    "- the application of mathematical methods to the solution of problems in finance\n",
    "- also known as financial mathematics, mathematical finance, and computational finance\n",
    "\n",
    "Therefore, \n",
    "- Financial engineering draws on tools from applied mathematics, computer science, statistics, and economic theory.\n",
    "- Investment banks, commercial banks, hedge funds, insurance companies, corporate treasuries, and regulatory agencies employ financial engineers.\n",
    "- These businesses apply the methods of financial engineering to problems such as new product development, derivative securities valuation, portfolio structuring, risk management, and scenario simulation.\n",
    "\n"
   ]
  },
  {
   "cell_type": "markdown",
   "metadata": {
    "slideshow": {
     "slide_type": "slide"
    }
   },
   "source": [
    "## What is financial engineering for?\n",
    "\n",
    "- Derivative pricing\n",
    "- Portfolio construction\n",
    "- Risk management\n",
    "- Quantitative trading\n",
    "- Market making\n",
    "- Order implementation\n",
    "\n",
    "We shall mostly focus on the pricing of derivatives based on the principle of no arbitrage. \n",
    "\n",
    "As pricing is concerned, in finanical engineering we usually consider the following types of problems:\n",
    "- direct problem: under a given model for the underlying, calculate the prices of its derivatives\n",
    "- inverse problem: for a given set of prices of liquidly derivatives, determine the parameters or even a model that generates the observed market prices. "
   ]
  },
  {
   "cell_type": "markdown",
   "metadata": {},
   "source": [
    "## What skills are required to be a financial engineer?\n",
    "\n",
    "Quantitative finance is an interdisciplinary field, it requires hard skills in \n",
    "- Math: calculus, linear algebra, probability, stochastic process, differential equation, optimization, etc \n",
    "- Finance: derivative pricing theory, modern portfolio theory, market microstructure models\n",
    "- Statistics: regression and classification, factor analysis, time series analysis\n",
    "- Programming: R, Python, C++, Matlab, etc\n",
    "\n",
    "Nowadays also requires \n",
    "- machine learnining techniques\n",
    "- sentiment analysis"
   ]
  },
  {
   "cell_type": "markdown",
   "metadata": {},
   "source": [
    "## Quantitative analyst - Quant\n",
    "\n",
    "Excerpt from [Quants: The Rocket Scientists of Wall Street](https://www.investopedia.com/articles/financialcareers/08/quants-quantitative-analyst.asp) in Investopedia, \n",
    "\n",
    ">As financial securities become increasingly complex, demand has grown steadily for people who not only understand the complex mathematical models that price these securities, but who are able to enhance them to generate profits and reduce risk. These individuals are known as quantitative analysts, or simply \"quants.\"\n",
    "\n",
    "Quantitative analysts\n",
    "- design and implement complex models that allow financial firms to price and trade securities\n",
    "- front desk quants work directly with traders, providing them with pricing or trading tools \n",
    "- back office quants validate the models, conduct research and create new strategies\n",
    "- positions are found almost exclusively in major financial centers with trading operations"
   ]
  },
  {
   "cell_type": "markdown",
   "metadata": {},
   "source": [
    "## $\\mathbb{P}$ quant v.s. $\\mathbb{Q}$ quant\n",
    "\n",
    "Quants are briefly categorized as $\\mathbb{P}$ quants and $\\mathbb{Q}$ quants.\n",
    "\n",
    "- $\\mathbb{P}$ refers to the physical measure under which the financial assets presumably evolves. \n",
    "- $\\mathbb{Q}$ refers to the risk neutral measure for pricing under the principle of no arbitrage.  \n",
    "\n",
    "\n",
    "The mentality behind $\\mathbb P$ quant and the buy side is \n",
    "\n",
    "- Regard the market as a whole, process historical data then forecast price movements \n",
    "- Construct portfolio or investment strategy based on performance measures \n",
    "- Decide the horizon of holding the portfolio\n",
    "- Risk management\n",
    "\n",
    "The mentality behind $\\mathbb Q$ quant and the sell side is \n",
    "\n",
    "- Construct model that could possibly explain the market \n",
    "- Cablibrate parameters of model to market data\n",
    "- Apply the calibrated model to price new derivatives\n",
    "- Hedging \n",
    "\n",
    "### Note\n",
    "- In this course, we shall cover topics on both sides, though not evenly.\n",
    "- Please refer to [this link](https://www.arpm.co/lab/about-quantitative-finance.html#x4-130001) in [ARPM.co](https://www.arpm.co/) for more details on the interplay between $\\mathbb P$ quants and $\\mathbb Q$ quants."
   ]
  },
  {
   "cell_type": "markdown",
   "metadata": {},
   "source": [
    "## Theory of asset pricing\n",
    "\n",
    "Heuristically, pricing is a rule or a map that assigns a (unique, current) value to each (random) payoff/cashflow which can only be realized at the future investment horizon. The collection/universe of all the payoffs at the investment horizon is assumed to be equipped with a vector space structure. In other words, we would be able to add or subtract a payoff from another, and also be able to scale up or down by any (real, positive or negative) scalar. Thus, we can regard pricing as a function or a functional $\\Pi$ from the space of (random) payoffs to real numbers: \n",
    "\n",
    "$$\n",
    "\\Pi : \\mathcal P \\to \\R,\n",
    "$$\n",
    "\n",
    "where $\\mathcal P$ is space of payoffs at investment horizon. \n",
    "\n",
    "A pricing functional $\\Pi$ presumably bears the following axioms\n",
    "\n",
    "- Law of one price \n",
    "- Monotonicity\n",
    "- Linearity\n",
    "\n",
    "By esssentially the Riesz representation theorem, a pricing function/functional, should it exist, can be charactrized by the expectation of a (random) payoff weighted by a stochastic discount factor. \n",
    "\n",
    "The price of any asset in the universe is given by the an expectation of discounted payoff discounted by a stochastic discount factor. \n",
    "\n",
    "### Note\n",
    "In this course we shall explore the modeling of the pricing functional. "
   ]
  },
  {
   "cell_type": "markdown",
   "metadata": {},
   "source": [
    "## Law of one price\n",
    "\n",
    "Two payoffs with equal values in all scenarios must have the same price. \n",
    "\n",
    "\n",
    "\n",
    "## Monotonicity\n",
    "\n",
    "If the payoff $X$ dominates the payoff $Y$, i.e., $X > Y$ in any scenario, then the price of $X$ must be higher than that of $Y$. \n",
    "\n",
    "## Linearity\n",
    "\n",
    "The price of linear combination of the payoffs $X$ and $Y$ is the same linear combination of the price of $X$ and $Y$. That is, \n",
    "\n",
    "$$\n",
    "\\Pi(\\alpha X + \\beta Y) = \\alpha \\Pi(X) + \\beta \\Pi(Y)\n",
    "$$"
   ]
  },
  {
   "cell_type": "markdown",
   "metadata": {},
   "source": [
    "If the pricing function/functional satisfies the axioms, it can be represented as a discounted expectation. Precisely, for a given payoff $X$, its price is given by\n",
    "\n",
    "$$\n",
    "\\Pi(X) = \\Eof{D X}\n",
    "$$\n",
    "\n",
    "where $D$ is a (positive) random variable called *stochastic discount factor*.\n",
    "\n",
    "### Note\n",
    "The $\\Eof{D}$ is the price of zero coupon bond since, the payoff of zero coupon bond of face value 1 is $X \\equiv 1$. \n",
    "\n",
    "\n",
    "\n"
   ]
  },
  {
   "cell_type": "markdown",
   "metadata": {},
   "source": [
    "## Principle of no arbitrage\n",
    "\n",
    "### Arbitrage opportunity\n",
    "Intuitively, an *arbitrage opportunity* is a trade or a trading strategy that have positive payoff at the investment horizon with zero cost currently. In other words, we are able to aquire a financial position, be statically or dynamically, without being required to pay initially for entering the position.  \n",
    "\n",
    "Any viable financial model should not permit arbitrage opportunity.\n",
    "\n",
    "In reality, arbitrage opportunity does exist. However, it disappears very quickly even much quicker now due to the advent of technology, since once it is exploited, sophiscated market participants will quickly take the advantage of it, then the market reacts to it so as to reach a new status without arbitrage opportunity. \n",
    "\n",
    "Principle of no arbitrage is the core behind the theory of derivative pricing. "
   ]
  },
  {
   "cell_type": "markdown",
   "metadata": {},
   "source": [
    "## Fundamental theorem of asset pricing\n",
    "\n",
    "Explanations from [Wikipedia](https://en.wikipedia.org/wiki/Fundamental_theorem_of_asset_pricing).\n",
    "\n",
    ">*The fundamental theorems of asset pricing (also: of arbitrage, of finance) provide necessary and sufficient conditions for a market to be arbitrage free and for a market to be complete.*\n",
    "\n",
    "To be more specific, \n",
    "\n",
    "*In a discrete (i.e. finite state) market, the following hold:*\n",
    "\n",
    "### The First Fundamental Theorem of Asset Pricing \n",
    "A discrete market, on a discrete probability space $(\\Omega, \\cF, \\PP)$, is arbitrage-free if and only if there exists at least one risk neutral probability measure that is equivalent to the original probability measure, $\\PP$.\n",
    "\n",
    "### The Second Fundamental Theorem of Asset Pricing \n",
    "An arbitrage-free market $(S, B)$ consisting of a collection of stocks $S$ and a risk-free bond $B$ is complete if and only if there exists a unique risk-neutral measure that is equivalent to $\\PP$ and has numeraire $B$.\n"
   ]
  },
  {
   "cell_type": "markdown",
   "metadata": {},
   "source": [
    "## Brief introduction to Jupyter notebook and Python\n",
    "\n",
    "Online resources\n",
    "\n",
    "- [Jupyter notebook and Jupyter lab](https://jupyter.org/)\n",
    "- [Python documentation](https://docs.python.org/3/)\n",
    "- [Numpy](https://numpy.org/)\n",
    "- [Scipy](https://scipy.org/)\n",
    "- [Pandas](https://pandas.pydata.org/)"
   ]
  },
  {
   "cell_type": "markdown",
   "metadata": {},
   "source": [
    "For example, this is a markdown cell.  "
   ]
  },
  {
   "cell_type": "code",
   "execution_count": 1,
   "metadata": {},
   "outputs": [],
   "source": [
    "# And this is a code cell"
   ]
  },
  {
   "cell_type": "markdown",
   "metadata": {},
   "source": [
    "# Head 1\n",
    "## Head 2\n",
    "### Head 3\n",
    "#### Head 4\n",
    "\n",
    "LaTex we can try to type $\\log x \\times \\cos y$\n",
    "\n",
    "Test on integral\n",
    "\n",
    "$$ \\int_{-\\infty}^\\infty e^{-\\frac{x^2}2} dx = \\sqrt{2\\pi}.$$\n",
    "\n"
   ]
  },
  {
   "cell_type": "markdown",
   "metadata": {},
   "source": [
    "This is an example for sum of an infinite series.\n",
    "\n",
    "$$\n",
    "\\zeta(2) = \\sum_{n=1}^\\infty \\frac1{n^2} = 1 + \\frac1{2^2} + \\frac1{3^2} + \\cdots + \\frac1{n^2} + \\cdots = \\frac{\\pi^2}6\n",
    "$$\n"
   ]
  },
  {
   "cell_type": "code",
   "execution_count": 2,
   "metadata": {},
   "outputs": [],
   "source": [
    "# install modules if necessary\n",
    "# pip install pandas\n",
    "# pip install seaborn"
   ]
  },
  {
   "cell_type": "code",
   "execution_count": 3,
   "metadata": {},
   "outputs": [],
   "source": [
    "# import modules that will be commonly used in the course\n",
    "import numpy as np \n",
    "import matplotlib.pyplot as plt\n",
    "from numpy import exp, log, sqrt\n",
    "import pandas as pd\n",
    "from scipy.stats import norm\n",
    "import scipy.stats as ss\n",
    "import seaborn as sns"
   ]
  },
  {
   "cell_type": "code",
   "execution_count": 4,
   "metadata": {},
   "outputs": [
    {
     "data": {
      "text/plain": [
       "(1.0, 1.0)"
      ]
     },
     "execution_count": 4,
     "metadata": {},
     "output_type": "execute_result"
    }
   ],
   "source": [
    "exp(0), np.exp(0)"
   ]
  },
  {
   "cell_type": "code",
   "execution_count": 5,
   "metadata": {},
   "outputs": [
    {
     "data": {
      "text/plain": [
       "6"
      ]
     },
     "execution_count": 5,
     "metadata": {},
     "output_type": "execute_result"
    }
   ],
   "source": [
    "x=6\n",
    "x"
   ]
  },
  {
   "cell_type": "code",
   "execution_count": 6,
   "metadata": {},
   "outputs": [
    {
     "data": {
      "text/plain": [
       "{'ticker': ['aapl', 'goog', 'spx'], 'price': (140, 600, 4500)}"
      ]
     },
     "execution_count": 6,
     "metadata": {},
     "output_type": "execute_result"
    }
   ],
   "source": [
    "# list\n",
    "tickers = ['aapl', 'goog', 'spx']\n",
    "\n",
    "# tuple\n",
    "prices = (140, 600, 4500)\n",
    "\n",
    "# dict/dictionary\n",
    "stocks = {'ticker': tickers, 'price': prices}\n",
    "stocks"
   ]
  },
  {
   "cell_type": "code",
   "execution_count": 7,
   "metadata": {},
   "outputs": [
    {
     "data": {
      "text/plain": [
       "(['aapl', 'goog', 'spx'], (140, 600, 4500))"
      ]
     },
     "execution_count": 7,
     "metadata": {},
     "output_type": "execute_result"
    }
   ],
   "source": [
    "stocks['ticker'], stocks['price']"
   ]
  },
  {
   "cell_type": "code",
   "execution_count": 8,
   "metadata": {},
   "outputs": [
    {
     "data": {
      "text/html": [
       "<div>\n",
       "<style scoped>\n",
       "    .dataframe tbody tr th:only-of-type {\n",
       "        vertical-align: middle;\n",
       "    }\n",
       "\n",
       "    .dataframe tbody tr th {\n",
       "        vertical-align: top;\n",
       "    }\n",
       "\n",
       "    .dataframe thead th {\n",
       "        text-align: right;\n",
       "    }\n",
       "</style>\n",
       "<table border=\"1\" class=\"dataframe\">\n",
       "  <thead>\n",
       "    <tr style=\"text-align: right;\">\n",
       "      <th></th>\n",
       "      <th>ticker</th>\n",
       "      <th>price</th>\n",
       "    </tr>\n",
       "  </thead>\n",
       "  <tbody>\n",
       "    <tr>\n",
       "      <th>0</th>\n",
       "      <td>aapl</td>\n",
       "      <td>140</td>\n",
       "    </tr>\n",
       "    <tr>\n",
       "      <th>1</th>\n",
       "      <td>goog</td>\n",
       "      <td>600</td>\n",
       "    </tr>\n",
       "    <tr>\n",
       "      <th>2</th>\n",
       "      <td>spx</td>\n",
       "      <td>4500</td>\n",
       "    </tr>\n",
       "  </tbody>\n",
       "</table>\n",
       "</div>"
      ],
      "text/plain": [
       "  ticker  price\n",
       "0   aapl    140\n",
       "1   goog    600\n",
       "2    spx   4500"
      ]
     },
     "execution_count": 8,
     "metadata": {},
     "output_type": "execute_result"
    }
   ],
   "source": [
    "# present data as a pandas.DataFrame\n",
    "df = pd.DataFrame({'ticker': tickers, 'price': prices})\n",
    "df"
   ]
  },
  {
   "cell_type": "code",
   "execution_count": 9,
   "metadata": {},
   "outputs": [
    {
     "data": {
      "text/html": [
       "<div>\n",
       "<style scoped>\n",
       "    .dataframe tbody tr th:only-of-type {\n",
       "        vertical-align: middle;\n",
       "    }\n",
       "\n",
       "    .dataframe tbody tr th {\n",
       "        vertical-align: top;\n",
       "    }\n",
       "\n",
       "    .dataframe thead th {\n",
       "        text-align: right;\n",
       "    }\n",
       "</style>\n",
       "<table border=\"1\" class=\"dataframe\">\n",
       "  <thead>\n",
       "    <tr style=\"text-align: right;\">\n",
       "      <th></th>\n",
       "      <th>ticker</th>\n",
       "      <th>price</th>\n",
       "      <th>index</th>\n",
       "    </tr>\n",
       "  </thead>\n",
       "  <tbody>\n",
       "    <tr>\n",
       "      <th>0</th>\n",
       "      <td>aapl</td>\n",
       "      <td>140</td>\n",
       "      <td>6</td>\n",
       "    </tr>\n",
       "    <tr>\n",
       "      <th>1</th>\n",
       "      <td>goog</td>\n",
       "      <td>600</td>\n",
       "      <td>8</td>\n",
       "    </tr>\n",
       "    <tr>\n",
       "      <th>2</th>\n",
       "      <td>spx</td>\n",
       "      <td>4500</td>\n",
       "      <td>9</td>\n",
       "    </tr>\n",
       "  </tbody>\n",
       "</table>\n",
       "</div>"
      ],
      "text/plain": [
       "  ticker  price  index\n",
       "0   aapl    140      6\n",
       "1   goog    600      8\n",
       "2    spx   4500      9"
      ]
     },
     "execution_count": 9,
     "metadata": {},
     "output_type": "execute_result"
    }
   ],
   "source": [
    "# add a column to pandas.DataFrame\n",
    "df['index'] = (6, 8, 9)\n",
    "df"
   ]
  },
  {
   "cell_type": "code",
   "execution_count": 10,
   "metadata": {},
   "outputs": [
    {
     "name": "stdout",
     "output_type": "stream",
     "text": [
      "[3, 2, 'this is a string']\n",
      "[3, 2, 'this is a string', 90]\n",
      "['bye', 3, 2, 'this is a string', 90, 'hello']\n"
     ]
    }
   ],
   "source": [
    "# concatenate lists\n",
    "taiho = [3, 2, 'this is a string']\n",
    "print(taiho)\n",
    "taiho += [90]\n",
    "print(taiho)\n",
    "print(['bye'] + taiho + ['hello'])"
   ]
  },
  {
   "cell_type": "code",
   "execution_count": 11,
   "metadata": {},
   "outputs": [
    {
     "name": "stdout",
     "output_type": "stream",
     "text": [
      "[[1. 0. 0. 0.]\n",
      " [0. 1. 0. 0.]\n",
      " [0. 0. 1. 0.]\n",
      " [0. 0. 0. 1.]]\n",
      "[[2. 0. 0. 0.]\n",
      " [0. 2. 0. 0.]\n",
      " [0. 0. 2. 0.]\n",
      " [0. 0. 0. 2.]]\n"
     ]
    },
    {
     "data": {
      "text/plain": [
       "array([[3., 1., 1., 1.],\n",
       "       [1., 3., 1., 1.],\n",
       "       [1., 1., 3., 1.],\n",
       "       [1., 1., 1., 3.]])"
      ]
     },
     "execution_count": 11,
     "metadata": {},
     "output_type": "execute_result"
    }
   ],
   "source": [
    "# matrix mulplications\n",
    "A = np.identity(4)\n",
    "print(A)\n",
    "print(2*A) \n",
    "2*A + 1"
   ]
  },
  {
   "cell_type": "code",
   "execution_count": 12,
   "metadata": {},
   "outputs": [
    {
     "name": "stdout",
     "output_type": "stream",
     "text": [
      "[1, 2, 3, 4, 5, 6]\n"
     ]
    },
    {
     "data": {
      "text/plain": [
       "array([5, 7, 9])"
      ]
     },
     "execution_count": 12,
     "metadata": {},
     "output_type": "execute_result"
    }
   ],
   "source": [
    "B = [1, 2, 3]\n",
    "c = [4, 5, 6]\n",
    "print(B + c)\n",
    "np.array(B) + np.array(c)"
   ]
  },
  {
   "cell_type": "code",
   "execution_count": 13,
   "metadata": {},
   "outputs": [
    {
     "data": {
      "text/plain": [
       "[1, 3, 9, 19, 33, 51, 73, 99, 129]"
      ]
     },
     "execution_count": 13,
     "metadata": {},
     "output_type": "execute_result"
    }
   ],
   "source": [
    "f = lambda x: 2*x**2 + 1\n",
    "[f(i) for i in range(9)]"
   ]
  },
  {
   "cell_type": "code",
   "execution_count": 14,
   "metadata": {},
   "outputs": [
    {
     "data": {
      "text/plain": [
       "array([  1,   3,   9,  19,  33,  51,  73,  99, 129])"
      ]
     },
     "execution_count": 14,
     "metadata": {},
     "output_type": "execute_result"
    }
   ],
   "source": [
    "f(np.arange(9))"
   ]
  },
  {
   "cell_type": "code",
   "execution_count": 15,
   "metadata": {},
   "outputs": [
    {
     "data": {
      "text/plain": [
       "array([0.        , 0.11111111, 0.22222222, 0.33333333, 0.44444444,\n",
       "       0.55555556, 0.66666667, 0.77777778, 0.88888889, 1.        ])"
      ]
     },
     "execution_count": 15,
     "metadata": {},
     "output_type": "execute_result"
    }
   ],
   "source": [
    "np.linspace(0, 1, 10)"
   ]
  },
  {
   "cell_type": "code",
   "execution_count": 16,
   "metadata": {},
   "outputs": [
    {
     "data": {
      "text/plain": [
       "array([0. , 0.1, 0.2, 0.3, 0.4, 0.5, 0.6, 0.7, 0.8, 0.9])"
      ]
     },
     "execution_count": 16,
     "metadata": {},
     "output_type": "execute_result"
    }
   ],
   "source": [
    "np.arange(0, 1, 0.1)"
   ]
  },
  {
   "cell_type": "code",
   "execution_count": 17,
   "metadata": {},
   "outputs": [
    {
     "name": "stdout",
     "output_type": "stream",
     "text": [
      "[ 0  1  2  3  4  5  6  7  8  9 10 11 12 13 14 15]\n"
     ]
    },
    {
     "data": {
      "text/plain": [
       "array([[ 0,  1,  2,  3],\n",
       "       [ 4,  5,  6,  7],\n",
       "       [ 8,  9, 10, 11],\n",
       "       [12, 13, 14, 15]])"
      ]
     },
     "execution_count": 17,
     "metadata": {},
     "output_type": "execute_result"
    }
   ],
   "source": [
    "B = np.arange(16)\n",
    "print(B)\n",
    "B = np.arange(16).reshape(4, 4)\n",
    "B"
   ]
  },
  {
   "cell_type": "code",
   "execution_count": 18,
   "metadata": {},
   "outputs": [
    {
     "data": {
      "text/plain": [
       "(array([[1., 0., 0., 0.],\n",
       "        [0., 1., 0., 0.],\n",
       "        [0., 0., 1., 0.],\n",
       "        [0., 0., 0., 1.]]),\n",
       " array([[ 0,  1,  2,  3],\n",
       "        [ 4,  5,  6,  7],\n",
       "        [ 8,  9, 10, 11],\n",
       "        [12, 13, 14, 15]]))"
      ]
     },
     "execution_count": 18,
     "metadata": {},
     "output_type": "execute_result"
    }
   ],
   "source": [
    "A, B"
   ]
  },
  {
   "cell_type": "code",
   "execution_count": 19,
   "metadata": {},
   "outputs": [],
   "source": [
    "d = np.array([1, 2, 3, 0])"
   ]
  },
  {
   "cell_type": "code",
   "execution_count": 20,
   "metadata": {},
   "outputs": [
    {
     "data": {
      "text/plain": [
       "(array([[1., 0., 0., 0.],\n",
       "        [0., 1., 0., 0.],\n",
       "        [0., 0., 1., 0.],\n",
       "        [0., 0., 0., 1.]]),\n",
       " array([1, 2, 3, 0]))"
      ]
     },
     "execution_count": 20,
     "metadata": {},
     "output_type": "execute_result"
    }
   ],
   "source": [
    "A, d"
   ]
  },
  {
   "cell_type": "code",
   "execution_count": 21,
   "metadata": {},
   "outputs": [
    {
     "data": {
      "text/plain": [
       "array([[1., 0., 0., 0.],\n",
       "       [0., 2., 0., 0.],\n",
       "       [0., 0., 3., 0.],\n",
       "       [0., 0., 0., 0.]])"
      ]
     },
     "execution_count": 21,
     "metadata": {},
     "output_type": "execute_result"
    }
   ],
   "source": [
    "A*d"
   ]
  },
  {
   "cell_type": "code",
   "execution_count": 22,
   "metadata": {},
   "outputs": [
    {
     "name": "stdout",
     "output_type": "stream",
     "text": [
      "[[ 0.  0.  0.  0.]\n",
      " [ 0.  5.  0.  0.]\n",
      " [ 0.  0. 10.  0.]\n",
      " [ 0.  0.  0. 15.]]\n"
     ]
    },
    {
     "data": {
      "text/plain": [
       "(array([[ 0.,  1.,  2.,  3.],\n",
       "        [ 4.,  5.,  6.,  7.],\n",
       "        [ 8.,  9., 10., 11.],\n",
       "        [12., 13., 14., 15.]]),\n",
       " array([[ 0.,  1.,  2.,  3.],\n",
       "        [ 4.,  5.,  6.,  7.],\n",
       "        [ 8.,  9., 10., 11.],\n",
       "        [12., 13., 14., 15.]]))"
      ]
     },
     "execution_count": 22,
     "metadata": {},
     "output_type": "execute_result"
    }
   ],
   "source": [
    "# entrywise multiplication, if they have the same shape\n",
    "print(A*B)\n",
    "\n",
    "# matrix multiplication, if they are conformable\n",
    "A.dot(B), B.dot(A)"
   ]
  },
  {
   "cell_type": "code",
   "execution_count": 23,
   "metadata": {},
   "outputs": [
    {
     "data": {
      "text/plain": [
       "(array([1, 2, 3, 4]), array([ 20,  60, 100, 140]))"
      ]
     },
     "execution_count": 23,
     "metadata": {},
     "output_type": "execute_result"
    }
   ],
   "source": [
    "c = np.arange(1, 5)\n",
    "c, B.dot(c)"
   ]
  },
  {
   "cell_type": "code",
   "execution_count": 24,
   "metadata": {},
   "outputs": [
    {
     "data": {
      "text/plain": [
       "(array([1, 2, 3, 4]),\n",
       " array([[ 0,  1,  2,  3],\n",
       "        [ 4,  5,  6,  7],\n",
       "        [ 8,  9, 10, 11],\n",
       "        [12, 13, 14, 15]]))"
      ]
     },
     "execution_count": 24,
     "metadata": {},
     "output_type": "execute_result"
    }
   ],
   "source": [
    "c, B"
   ]
  },
  {
   "cell_type": "code",
   "execution_count": 25,
   "metadata": {},
   "outputs": [
    {
     "data": {
      "text/plain": [
       "array([1, 2, 3, 4])"
      ]
     },
     "execution_count": 25,
     "metadata": {},
     "output_type": "execute_result"
    }
   ],
   "source": [
    "c = np.arange(1, 5)\n",
    "c"
   ]
  },
  {
   "cell_type": "code",
   "execution_count": 26,
   "metadata": {},
   "outputs": [
    {
     "data": {
      "text/plain": [
       "array([ 80,  90, 100, 110])"
      ]
     },
     "execution_count": 26,
     "metadata": {},
     "output_type": "execute_result"
    }
   ],
   "source": [
    "c.dot(B)"
   ]
  },
  {
   "cell_type": "code",
   "execution_count": 27,
   "metadata": {},
   "outputs": [
    {
     "data": {
      "text/plain": [
       "(4, 5)"
      ]
     },
     "execution_count": 27,
     "metadata": {},
     "output_type": "execute_result"
    }
   ],
   "source": [
    "c[3], B[1,1]"
   ]
  },
  {
   "cell_type": "markdown",
   "metadata": {},
   "source": [
    "## `numpy.arange` vs `numpy.linspace`"
   ]
  },
  {
   "cell_type": "code",
   "execution_count": 28,
   "metadata": {},
   "outputs": [
    {
     "name": "stdout",
     "output_type": "stream",
     "text": [
      "[1.  1.1 1.2 1.3 1.4 1.5 1.6 1.7 1.8 1.9]\n"
     ]
    },
    {
     "data": {
      "text/plain": [
       "array([1.        , 1.11111111, 1.22222222, 1.33333333, 1.44444444,\n",
       "       1.55555556, 1.66666667, 1.77777778, 1.88888889, 2.        ])"
      ]
     },
     "execution_count": 28,
     "metadata": {},
     "output_type": "execute_result"
    }
   ],
   "source": [
    "print(np.arange(1, 2, 0.1))\n",
    "np.linspace(1, 2, 10)"
   ]
  },
  {
   "cell_type": "markdown",
   "metadata": {},
   "source": [
    "## Probability distributions in `scipy.stats`\n",
    "\n",
    "- Distributions \n",
    "    - `norm` for normal distribution\n",
    "    - `expon` for exponential distribution\n",
    "    - `f` for $F$-distribution\n",
    "    - `t` for $t$-distribution\n",
    "    - `chi2` for $\\chi^2$\n",
    "\n",
    "- Methods\n",
    "    - `cdf` for cumulative distribution function\n",
    "    - `pdf` for probability density function\n",
    "    - `rvs` for random samples\n",
    "    - `ppf` for percentile/quantile function \n",
    "    - `sf` for survival function"
   ]
  },
  {
   "cell_type": "code",
   "execution_count": 53,
   "metadata": {},
   "outputs": [
    {
     "data": {
      "text/plain": [
       "array([ 0.50557911, -0.05232537,  2.13956731,  1.52754325,  0.45311903,\n",
       "       -1.13468699,  1.62694587, -0.49295139, -0.09571884, -0.73412983,\n",
       "        0.32601986,  0.16112643, -0.43061922,  1.23831982, -1.42126239,\n",
       "        0.34699095,  1.11773013, -0.05126498, -0.71373884,  0.36517516])"
      ]
     },
     "execution_count": 53,
     "metadata": {},
     "output_type": "execute_result"
    }
   ],
   "source": [
    "# set random seed for reproducing the same result\n",
    "np.random.seed(1414)\n",
    "ss.norm.rvs(size=20)"
   ]
  },
  {
   "cell_type": "code",
   "execution_count": 54,
   "metadata": {},
   "outputs": [
    {
     "data": {
      "text/plain": [
       "array([[ 1.76405235,  0.40015721],\n",
       "       [ 0.97873798,  2.2408932 ],\n",
       "       [ 1.86755799, -0.97727788],\n",
       "       [ 0.95008842, -0.15135721],\n",
       "       [-0.10321885,  0.4105985 ]])"
      ]
     },
     "execution_count": 54,
     "metadata": {},
     "output_type": "execute_result"
    }
   ],
   "source": [
    "# restructure in to a matrix\n",
    "np.random.seed(0)\n",
    "x = norm.rvs(size=10)\n",
    "x.reshape(5, 2)"
   ]
  },
  {
   "cell_type": "code",
   "execution_count": 61,
   "metadata": {},
   "outputs": [
    {
     "data": {
      "text/plain": [
       "(1.7229775174471502, 0.6653126551546404)"
      ]
     },
     "execution_count": 61,
     "metadata": {},
     "output_type": "execute_result"
    }
   ],
   "source": [
    "x = ss.chi.rvs(size=10, df=3)\n",
    "x.mean(), x.std()"
   ]
  },
  {
   "cell_type": "code",
   "execution_count": 70,
   "metadata": {},
   "outputs": [
    {
     "data": {
      "text/plain": [
       "(array([0.92535582, 0.96185394, 0.63174709, 1.72965921]),\n",
       " array([-0.04681686, -0.29059077,  1.12736085, -0.34318003,  0.6539917 ]))"
      ]
     },
     "execution_count": 70,
     "metadata": {},
     "output_type": "execute_result"
    }
   ],
   "source": [
    "# t distribution\n",
    "x = ss.t.rvs(size=20, df=3)\n",
    "x = x.reshape(5, 4)\n",
    "x.std(axis=0), x.mean(axis=1)"
   ]
  },
  {
   "cell_type": "code",
   "execution_count": 71,
   "metadata": {},
   "outputs": [
    {
     "name": "stdout",
     "output_type": "stream",
     "text": [
      "[[ 0.38460161  0.30557167  0.98733417 -0.91383565  0.29287735]\n",
      " [-4.80767259  1.75715301  0.56930703 -0.18584678 -0.27178843]\n",
      " [-2.22506467  0.75044717  0.64565414 -6.61192184  0.52245651]\n",
      " [-3.9920851  -0.09520588 -1.13886262  0.10359085  0.98480259]\n",
      " [ 1.14992001 -0.0721649   1.11039801 -1.2657385   0.24885729]\n",
      " [ 0.83122811  1.1900472   2.20384757  0.241097    0.7355704 ]\n",
      " [ 0.35649725 -0.05568609  0.91596184  0.57625402 -1.13201945]\n",
      " [-0.33241969 -0.86425951  0.70613486  0.58578441  0.83649889]\n",
      " [-3.05161328 -0.12689271 -0.95750987  0.43748489 -0.01460354]\n",
      " [ 0.91656328  0.61010723 -1.11239471 -0.96544386 -0.38342567]]\n"
     ]
    },
    {
     "data": {
      "text/plain": [
       "(array([-1.07700451,  0.33991172,  0.39298704, -0.79985755,  0.18192259]),\n",
       " array([ 0.21130983, -0.58776955, -1.38368574, -0.82755203,  0.23425438,\n",
       "         1.04035806,  0.13220151,  0.18634779, -0.7426269 , -0.18691875]),\n",
       " -0.19240813934357784,\n",
       " 0.21130982710311189,\n",
       " 0.3399117196808371)"
      ]
     },
     "execution_count": 71,
     "metadata": {},
     "output_type": "execute_result"
    }
   ],
   "source": [
    "# set seed for reproducing the same result\n",
    "np.random.seed(3141)\n",
    "A = ss.t.rvs(size=50, df=3).reshape(10, 5)\n",
    "print(A)\n",
    "\n",
    "# columns means, row means, mean\n",
    "A.mean(axis=0), A.mean(axis=1), A.mean(), A[0,:].mean(), A[:,1].mean()"
   ]
  },
  {
   "cell_type": "code",
   "execution_count": 34,
   "metadata": {},
   "outputs": [
    {
     "data": {
      "text/plain": [
       "(array([2.1202166 , 0.71816393, 1.05120007, 2.04105521, 0.61667702]),\n",
       " array([0.61866546, 2.23188063, 2.8407215 , 1.72041687, 0.88883698,\n",
       "        0.65598228, 0.70644573, 0.66713118, 1.23930652, 0.81904152]),\n",
       " 1.5861889765952781)"
      ]
     },
     "execution_count": 34,
     "metadata": {},
     "output_type": "execute_result"
    }
   ],
   "source": [
    "A.std(axis=0), A.std(axis=1), A.std()"
   ]
  },
  {
   "cell_type": "code",
   "execution_count": 77,
   "metadata": {},
   "outputs": [
    {
     "data": {
      "image/png": "[encoded data removed]",
      "text/plain": [
       "<Figure size 648x432 with 1 Axes>"
      ]
     },
     "metadata": {
      "needs_background": "light"
     },
     "output_type": "display_data"
    }
   ],
   "source": [
    "# plot graph of a function\n",
    "f = lambda x: np.sin(x)\n",
    "g = lambda x: np.sin(x - np.pi/6)\n",
    "h = lambda x: np.sin(x - np.pi/4)\n",
    "x = np.linspace(0, 2*np.pi, 200)\n",
    "\n",
    "# plot\n",
    "plt.figure(figsize=(9, 6))\n",
    "plt.plot(x, f(x), 'r', lw=1, label='$y = f(x)$')\n",
    "plt.plot(x, g(x), 'k--', lw=1, label='$y = g(x)$')\n",
    "plt.plot(x, h(x), 'b-.', lw=1, label='$y = h(x)$')\n",
    "plt.xlabel('$x$', fontsize=12)\n",
    "plt.ylabel('$y$', fontsize=12)\n",
    "plt.title('Whatever the Title', fontsize=15)\n",
    "plt.grid()\n",
    "plt.legend();"
   ]
  },
  {
   "cell_type": "code",
   "execution_count": 80,
   "metadata": {},
   "outputs": [
    {
     "data": {
      "text/plain": [
       "(          0\n",
       " 0  1.722518\n",
       " 1 -0.626257\n",
       " 2 -3.533687\n",
       " 3  0.716898\n",
       " 4  1.353317\n",
       " 5  1.603105\n",
       " 6  0.501179\n",
       " 7  0.748855\n",
       " 8 -1.790165\n",
       " 9  0.533090,\n",
       "               0\n",
       " 49990  0.004426\n",
       " 49991  0.235329\n",
       " 49992 -0.188821\n",
       " 49993 -0.183680\n",
       " 49994  0.475978\n",
       " 49995 -1.139552\n",
       " 49996 -0.162364\n",
       " 49997 -0.355614\n",
       " 49998 -0.793454\n",
       " 49999  1.334050)"
      ]
     },
     "execution_count": 80,
     "metadata": {},
     "output_type": "execute_result"
    }
   ],
   "source": [
    "# examples for histogram\n",
    "# set seed\n",
    "np.random.seed(2718)\n",
    "sample = pd.DataFrame(norm.rvs(size=int(5e4)))\n",
    "sample.head(10), sample.tail(10)"
   ]
  },
  {
   "cell_type": "code",
   "execution_count": 82,
   "metadata": {},
   "outputs": [
    {
     "data": {
      "text/html": [
       "<div>\n",
       "<style scoped>\n",
       "    .dataframe tbody tr th:only-of-type {\n",
       "        vertical-align: middle;\n",
       "    }\n",
       "\n",
       "    .dataframe tbody tr th {\n",
       "        vertical-align: top;\n",
       "    }\n",
       "\n",
       "    .dataframe thead th {\n",
       "        text-align: right;\n",
       "    }\n",
       "</style>\n",
       "<table border=\"1\" class=\"dataframe\">\n",
       "  <thead>\n",
       "    <tr style=\"text-align: right;\">\n",
       "      <th></th>\n",
       "      <th>count</th>\n",
       "      <th>mean</th>\n",
       "      <th>std</th>\n",
       "      <th>min</th>\n",
       "      <th>25%</th>\n",
       "      <th>50%</th>\n",
       "      <th>75%</th>\n",
       "      <th>max</th>\n",
       "    </tr>\n",
       "  </thead>\n",
       "  <tbody>\n",
       "    <tr>\n",
       "      <th>0</th>\n",
       "      <td>50000.0</td>\n",
       "      <td>0.000345</td>\n",
       "      <td>1.002402</td>\n",
       "      <td>-4.568631</td>\n",
       "      <td>-0.675698</td>\n",
       "      <td>0.006211</td>\n",
       "      <td>0.681126</td>\n",
       "      <td>4.001952</td>\n",
       "    </tr>\n",
       "  </tbody>\n",
       "</table>\n",
       "</div>"
      ],
      "text/plain": [
       "     count      mean       std       min       25%       50%       75%  \\\n",
       "0  50000.0  0.000345  1.002402 -4.568631 -0.675698  0.006211  0.681126   \n",
       "\n",
       "        max  \n",
       "0  4.001952  "
      ]
     },
     "execution_count": 82,
     "metadata": {},
     "output_type": "execute_result"
    }
   ],
   "source": [
    "sample.describe().transpose()"
   ]
  },
  {
   "cell_type": "code",
   "execution_count": 83,
   "metadata": {},
   "outputs": [],
   "source": [
    "# generate random samples from standard normal\n",
    "sample = pd.DataFrame(norm.rvs(size=int(5e4))) # 1e5 = 10^5, 1e3 = 10^3 = 1000\n",
    "\n",
    "x = np.linspace(sample.min(), sample.max(), 200)\n",
    "y = norm.pdf(x)\n",
    "\n",
    "# histogram by hvplot.hist\n",
    "#sample.hvplot.hist(bins=50, height=350, width=550, label='histogram') * \\\n",
    "#hv.Curve((x, y*8500)).opts(color='red', line_dash='dashed')"
   ]
  },
  {
   "cell_type": "code",
   "execution_count": 88,
   "metadata": {},
   "outputs": [
    {
     "data": {
      "image/png": "[encoded data removed]",
      "text/plain": [
       "<Figure size 648x432 with 1 Axes>"
      ]
     },
     "metadata": {
      "needs_background": "light"
     },
     "output_type": "display_data"
    }
   ],
   "source": [
    "# histogram by seaborn.histplot\n",
    "# we shall mostly using this module for plotting histograms\n",
    "plt.figure(figsize=(9, 6))\n",
    "sns.histplot(sample[0], bins=50, stat='density', kde=True, label='histogram')\n",
    "\n",
    "#sns.histplot(sample[0], bins=50, color='k', fill=False)\n",
    "plt.xlabel('$X$', fontsize=12)\n",
    "plt.title('Histogram', fontsize=18)\n",
    "\n",
    "# superimpose density of standard normal \n",
    "x = np.linspace(sample.min(), sample.max(), 200)\n",
    "y = norm.pdf(x)\n",
    "plt.plot(x, y, 'r--', label='normal density')\n",
    "plt.legend();"
   ]
  },
  {
   "cell_type": "code",
   "execution_count": 41,
   "metadata": {},
   "outputs": [],
   "source": [
    "sample.columns = ['X']"
   ]
  },
  {
   "cell_type": "code",
   "execution_count": 42,
   "metadata": {},
   "outputs": [
    {
     "data": {
      "image/png": "[encoded data removed]",
      "text/plain": [
       "<Figure size 432x288 with 1 Axes>"
      ]
     },
     "metadata": {
      "needs_background": "light"
     },
     "output_type": "display_data"
    }
   ],
   "source": [
    "# histogram using built-in pandas.DataFrame method\n",
    "sample.plot(kind='hist', bins=50, density=True, histtype='step')\n",
    "# superimpose the density\n",
    "x = np.linspace(sample.min(), sample.max(), 200)\n",
    "y = norm.pdf(x)\n",
    "plt.plot(x, y, 'r-.', label='normal density')\n",
    "plt.xlabel('$X$', fontsize=12)\n",
    "plt.title('Histogram', fontsize=18)\n",
    "plt.legend();"
   ]
  },
  {
   "cell_type": "code",
   "execution_count": 43,
   "metadata": {},
   "outputs": [
    {
     "data": {
      "image/png": "[encoded data removed]",
      "text/plain": [
       "<Figure size 648x432 with 1 Axes>"
      ]
     },
     "metadata": {
      "needs_background": "light"
     },
     "output_type": "display_data"
    }
   ],
   "source": [
    "# histogram using pyplot\n",
    "plt.figure(figsize=(9, 6))\n",
    "plt.hist(sample, density=True, bins=50, histtype='bar', rwidth=0.85, label='histogram')\n",
    "\n",
    "# superimpose the density\n",
    "x = np.linspace(sample.min(), sample.max(), 200)\n",
    "y = norm.pdf(x)\n",
    "plt.plot(x, y, 'r-.', label='normal density')\n",
    "plt.xlabel('$X$', fontsize=12)\n",
    "plt.legend();"
   ]
  }
 ],
 "metadata": {
  "celltoolbar": "Slideshow",
  "kernelspec": {
   "display_name": "Python 3",
   "language": "python",
   "name": "python3"
  },
  "language_info": {
   "codemirror_mode": {
    "name": "ipython",
    "version": 3
   },
   "file_extension": ".py",
   "mimetype": "text/x-python",
   "name": "python",
   "nbconvert_exporter": "python",
   "pygments_lexer": "ipython3",
   "version": "3.8.3"
  },
  "toc": {
   "base_numbering": 1,
   "nav_menu": {},
   "number_sections": false,
   "sideBar": true,
   "skip_h1_title": false,
   "title_cell": "Table of Contents",
   "title_sidebar": "Contents",
   "toc_cell": false,
   "toc_position": {},
   "toc_section_display": true,
   "toc_window_display": false
  },
  "varInspector": {
   "cols": {
    "lenName": 16,
    "lenType": 16,
    "lenVar": 40
   },
   "kernels_config": {
    "python": {
     "delete_cmd_postfix": "",
     "delete_cmd_prefix": "del ",
     "library": "var_list.py",
     "varRefreshCmd": "print(var_dic_list())"
    },
    "r": {
     "delete_cmd_postfix": ") ",
     "delete_cmd_prefix": "rm(",
     "library": "var_list.r",
     "varRefreshCmd": "cat(var_dic_list()) "
    }
   },
   "types_to_exclude": [
    "module",
    "function",
    "builtin_function_or_method",
    "instance",
    "_Feature"
   ],
   "window_display": false
  }
 },
 "nbformat": 4,
 "nbformat_minor": 4
}
