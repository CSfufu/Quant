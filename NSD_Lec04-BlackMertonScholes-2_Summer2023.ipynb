{
 "cells": [
  {
   "cell_type": "markdown",
   "metadata": {},
   "source": [
    "# Topics in Quantitative Finance, Summer 2023 \n",
    "\n",
    "## Lecture 4: The Black-Merton-Scholes model and beyond II\n",
    "\n",
    "<br>\n",
    "<br>\n",
    "\n",
    "<center>\n",
    "<font size=5, color=darkblue> Tai-Ho Wang (王 太和)</font>\n",
    "</center>\n",
    "<br>\n",
    "<center>\n",
    "<h2><img src=\"https://lehman.edu/techincubator/img/baruch-logo.png\" align=\"center\" height=100 width=275></h2>\n",
    "<br>\n",
    "\n",
    "$$\n",
    "\\newcommand{\\bea}{\\begin{eqnarray}}\n",
    "\\newcommand{\\eea}{\\end{eqnarray}}\n",
    "\\newcommand{\\supp}{\\mathrm{supp}}\n",
    "\\newcommand{\\F}{\\mathcal{F} }\n",
    "\\newcommand{\\cF}{\\mathcal{F} }\n",
    "\\newcommand{\\E}{\\mathbb{E} }\n",
    "\\newcommand{\\Eof}[1]{\\mathbb{E}\\left[ #1 \\right]}\n",
    "\\newcommand{\\Etof}[1]{\\mathbb{E}_t\\left[ #1 \\right]}\n",
    "\\newcommand{\\Sdof}[1]{\\mathbb{Sd}\\left[ #1 \\right]}\n",
    "\\def\\Cov{{ \\mbox{Cov} }}\n",
    "\\def\\Var{{ \\mbox{Var} }}\n",
    "\\newcommand{\\1}{\\mathbf{1} }\n",
    "\\newcommand{\\p}{\\partial}\n",
    "\\newcommand{\\PP}{\\mathbb{P} }\n",
    "\\newcommand{\\Pof}[1]{\\mathbb{P}\\left[ #1 \\right]}\n",
    "\\newcommand{\\QQ}{\\mathbb{Q} }\n",
    "\\newcommand{\\R}{\\mathbb{R} }\n",
    "\\newcommand{\\DD}{\\mathbb{D} }\n",
    "\\newcommand{\\HH}{\\mathbb{H} }\n",
    "\\newcommand{\\spn}{\\mathrm{span} }\n",
    "\\newcommand{\\cov}{\\mathrm{cov} }\n",
    "\\newcommand{\\HS}{\\mathcal{L}_{\\mathrm{HS}} }\n",
    "\\newcommand{\\Hess}{\\mathrm{Hess} }\n",
    "\\newcommand{\\trace}{\\mathrm{trace} }\n",
    "\\newcommand{\\LL}{\\mathcal{L} }\n",
    "\\newcommand{\\s}{\\mathcal{S} }\n",
    "\\newcommand{\\ee}{\\mathcal{E} }\n",
    "\\newcommand{\\ff}{\\mathcal{F} }\n",
    "\\newcommand{\\hh}{\\mathcal{H} }\n",
    "\\newcommand{\\bb}{\\mathcal{B} }\n",
    "\\newcommand{\\dd}{\\mathcal{D} }\n",
    "\\newcommand{\\g}{\\mathcal{G} }\n",
    "\\newcommand{\\half}{\\frac{1}{2} }\n",
    "\\newcommand{\\T}{\\mathcal{T} }\n",
    "\\newcommand{\\bit}{\\begin{itemize}}\n",
    "\\newcommand{\\eit}{\\end{itemize}}\n",
    "\\newcommand{\\beq}{\\begin{equation}}\n",
    "\\newcommand{\\eeq}{\\end{equation}}\n",
    "\\newcommand{\\tr}{\\mbox{tr}}\n",
    "\\newcommand{\\inn}[2]{\\left\\langle #1, #2 \\right\\rangle}\n",
    "\\newcommand{\\bX}{\\boldsymbol X}\n",
    "\\newcommand{\\bY}{\\boldsymbol Y}\n",
    "\\newcommand{\\bSigma}{\\boldsymbol \\Sigma}\n",
    "\\newcommand{\\bm}{\\boldsymbol m}\n",
    "\\newcommand{\\bx}{\\boldsymbol x}\n",
    "\\newcommand{\\by}{\\boldsymbol y}\n",
    "\\newcommand{\\bepsilon}{\\boldsymbol\\epsilon}\n",
    "\\newcommand{\\bmu}{\\boldsymbol\\mu}\n",
    "\\newcommand{\\bxi}{\\boldsymbol\\xi}\n",
    "$$\n",
    "\n"
   ]
  },
  {
   "cell_type": "markdown",
   "metadata": {},
   "source": [
    "## Agenda\n",
    "\n",
    "- Black-Merton-Scholes model revisited\n",
    "- Implied volatility\n",
    "    - Gaussian process regression (GPR) fit for implied volatility curve\n",
    "- Local volatility model\n",
    "- Stochastic volatility model\n",
    "    - Heston models"
   ]
  },
  {
   "cell_type": "markdown",
   "metadata": {},
   "source": [
    "## The Black-Scholes world\n",
    "\n",
    "The Black–Scholes model assumes that the market consists of at least one risky asset, usually called the stock, and one riskless asset, usually called the money market, cash, or bond.\n",
    "\n",
    "Assumptions on the assets:\n",
    "\n",
    "- (riskless rate) The rate of return on the riskless asset is constant and thus called the risk-free interest rate.\n",
    "- (Brownian motion) The instantaneous log return of stock price is a Brownian motion with drift; and we will assume its drift and volatility are constant (if they are time-varying, we can deduce a suitably modified Black–Scholes formula quite simply, as long as the volatility is not random). As a result, the stock price follows a geometric Brownian motion. \n",
    "- The stock does not pay dividend.\n",
    "\n",
    "Assumptions on the market:\n",
    "\n",
    "- There exists no arbitrage opportunity.\n",
    "- It is possible to borrow and lend any amount, even fractional, of cash at the riskless rate.\n",
    "- It is possible to buy and sell any amount, even fractional, of the stock, including short selling.\n",
    "- Frictionless market: the transactions do not incur any fees or costs.\n"
   ]
  },
  {
   "cell_type": "markdown",
   "metadata": {},
   "source": [
    "## Black-Scholes model\n",
    "\n",
    "Assume the price of the underlying asset follows the stochastic differential equation\n",
    "\n",
    "$$\n",
    "\\frac{dS_t}{S_t} = \\mu dt + \\sigma dW_t,\n",
    "$$\n",
    "\n",
    "where\n",
    "\n",
    "- $\\mu$: (constant) expected return \n",
    "- $\\sigma$: (constant) volatility \n",
    "- $W_t$: standard Brownian motion\n",
    "\n",
    "For each time $t$, $S_t$ is lognormally distributed. More precisely,\n",
    "\n",
    "$$\n",
    "S_t \\sim S_0 \\exp\\left[\\left(\\mu - \\frac{\\sigma^2}{2}\\right)t + \\sigma \\sqrt t Z \\right]\n",
    "$$\n",
    "\n",
    "where $Z$ is a standard normal random variable.\n",
    "\n",
    "#### Note\n",
    "$S_t$ has the closed form expression\n",
    "\n",
    "$$\n",
    "S_t = S_0 e^{\\left(\\mu - \\frac{\\sigma^2}2 \\right) t+ \\sigma W_t}\n",
    "$$\n",
    "\n",
    "and is also referred to as a *geometric Brownian motion*."
   ]
  },
  {
   "cell_type": "markdown",
   "metadata": {},
   "source": [
    "## Black-Scholes PDE\n",
    "\n",
    "We conclude that the price $C$ of a call option satisfies\n",
    "\n",
    "\\begin{eqnarray*}\n",
    "   \\frac{\\p C}{\\p t} + \\frac{\\sigma^2}{2}S^2\\frac{\\p C^2}{\\p S^2} + rS\\frac{\\p C}{\\p S} - rC = 0,\n",
    "   \\mbox{ for } 0 < S < \\infty, \\quad 0 \\leq t < T\n",
    "\\end{eqnarray*}\n",
    "\n",
    "with terminal condition\n",
    "\n",
    "$$\n",
    "C(T,S) = (S - K)^+\n",
    "$$\n",
    "\n",
    "and boundary conditions\n",
    "\n",
    "\\begin{eqnarray*}\n",
    "   && C(t,0) = 0  \\\\\n",
    "   && C(t,S) \\sim S - K e^{-r(T - t)} \\mbox{ as } S \\to\\infty \\\\\n",
    "   && \\mbox{ or more specificly} \\lim_{S\\to\\infty} \\frac{C(t, S)}S = 1 \n",
    "\\end{eqnarray*}\n",
    "\n",
    "#### Note\n",
    "The Black-Scholes pricing PDE does not depend on the drift $\\mu$."
   ]
  },
  {
   "cell_type": "markdown",
   "metadata": {},
   "source": [
    "## The Black-Scholes formula \n",
    "\n",
    "For call\n",
    "\n",
    "$$\n",
    "C = S e^{-d\\tau} N(d_1) - K e^{-r\\tau} N(d_2)\n",
    "$$\n",
    "\n",
    "where $\\tau$ is time to expiry, $N(\\cdot)$ denotes the cdf for standard normal, and \n",
    "\n",
    "$$\n",
    "d_1 = \\frac{\\log\\left(\\frac{Se^{-d\\tau}}{Ke^{-r\\tau}}\\right)}{\\sigma\\sqrt\\tau}+ \\frac{\\sigma\\sqrt\\tau}2, \\qquad d_2 = d_1 - \\sigma \\sqrt\\tau\n",
    "$$\n",
    "\n",
    "For put\n",
    "\n",
    "$$\n",
    "P = K e^{-r\\tau} N(-d_2) - S e^{-d\\tau} N(-d_1).\n",
    "$$\n",
    "\n",
    "### Note\n",
    "- Put-call parity\n",
    "\n",
    "    $$\n",
    "    C - P = S e^{-d\\tau} - K e^{-r\\tau}.\n",
    "    $$\n",
    "    \n",
    "- Financial meaning of $N(d_1)$ and $N(d_2)$"
   ]
  },
  {
   "cell_type": "code",
   "execution_count": 21,
   "metadata": {},
   "outputs": [],
   "source": [
    "import numpy as np\n",
    "import pandas as pd\n",
    "import matplotlib.pyplot as plt\n",
    "from numpy import exp, log, sqrt\n",
    "from scipy.stats import norm"
   ]
  },
  {
   "cell_type": "code",
   "execution_count": 22,
   "metadata": {},
   "outputs": [],
   "source": [
    "# Black-Scholes formulas\n",
    "# call\n",
    "def bs_call(s, K, sigma, t, r=0, d=0):\n",
    "    d1 = (log(s/K) + (r - d)*t)/(sigma*sqrt(t)) + sigma*sqrt(t)/2\n",
    "    d2 = d1 - sigma*sqrt(t)\n",
    "    \n",
    "    c = s*exp(-d*t)*norm.cdf(d1) - K*exp(-r*t)*norm.cdf(d2)\n",
    "    delta = exp(-d*t)*norm.cdf(d1)\n",
    "    gamma = exp(-d*t)*norm.pdf(d1)/s/sigma/sqrt(t)\n",
    "    \n",
    "    return {'c': c, 'delta': delta, 'gamma': gamma}\n",
    "\n",
    "# put\n",
    "def bs_put(s, K, sigma, t, r=0, d=0):\n",
    "    d1 = (log(s/K) + (r - d)*t)/(sigma*sqrt(t)) + sigma*sqrt(t)/2\n",
    "    d2 = d1 - sigma*sqrt(t)\n",
    "    \n",
    "    p = K*exp(-r*t)*norm.cdf(-d2) - s*exp(-d*t)*norm.cdf(-d1)\n",
    "    delta = -exp(-d*t)*norm.cdf(-d1)\n",
    "    gamma = exp(-d*t)*norm.pdf(d1)/s/sigma/sqrt(t)\n",
    "    \n",
    "    return {'p': p, 'delta': delta, 'gamma': gamma}"
   ]
  },
  {
   "cell_type": "code",
   "execution_count": 23,
   "metadata": {},
   "outputs": [
    {
     "data": {
      "text/plain": [
       "({'c': 11.489697553016399,\n",
       "  'delta': 0.5465034987964444,\n",
       "  'gamma': 0.013207627175872894},\n",
       " 12.489697553016399)"
      ]
     },
     "execution_count": 23,
     "metadata": {},
     "output_type": "execute_result"
    }
   ],
   "source": [
    "bs_call(100,101, 0.3, 1), bs_put(100,101, 0.3, 1)['p']"
   ]
  },
  {
   "cell_type": "markdown",
   "metadata": {},
   "source": [
    "## Implied volatility\n",
    "\n",
    "\"A wrong number to a wrong formula for a correct answer.\"\n",
    "\n",
    "- In the Black-Scholes model there is a one-to-one correspondence between the price of the option and the volatility parameter $\\sigma$ (Why?). The option prices are often quoted by stating this specific volatility, called the *implied volatility*.\n",
    "\n",
    "- In Black-Scholes world, the volatility is assumed constant. But in reality, options of different strike require different volatilities to match their market prices. This is referred to as the *volatility smile*."
   ]
  },
  {
   "cell_type": "markdown",
   "metadata": {},
   "source": [
    "## Volatility smile of SPX on Sep-15, 2011\n",
    "\n",
    "<img src=\"spxImpVol.jpg\" align = \"center\" height=600 width=600>\n"
   ]
  },
  {
   "cell_type": "markdown",
   "metadata": {},
   "source": [
    "## Gaussian process revisited\n",
    "\n",
    "A stochastic \"process\" $f_\\bx$, (multi-)indexed by $\\bx\\in\\R^d$, is called a *Gaussian process* if all its finite dimensional distributions are jointly Gaussian. Precisely, given any finite set of (multi-)indices $\\bx_1, \\cdots, \\bx_n$, the random variables $f_{\\bx_1}, \\cdots, f_{\\bx_n}$ are jointly Gaussian. As a result, the distribution of a Gaussian process is fully characterized by the mean function $m(\\bx)$ and the autocovariance function, a.k.a., the *kernel*, $k(\\bx, \\by)$. For example, the $n$-dimensional random vector $(f_{\\bx_1}, \\cdots, f_{\\bx_n})$ is multivariate normally distribtuted $N(\\bmu, \\bSigma)$ with\n",
    "\n",
    "$$\n",
    "\\bmu = \\left[\\begin{array}{c}\n",
    "m(\\bx_1) \\\\\n",
    "\\vdots \\\\\n",
    "m(\\bx_n)\n",
    "\\end{array}\\right], \\qquad \n",
    "\\bSigma = \\left[\\begin{array}{ccc}\n",
    "k(\\bx_1, \\bx_1) & \\cdots & k(\\bx_1, \\bx_n) \\\\\n",
    "\\vdots & \\ddots & \\vdots \\\\\n",
    "k(\\bx_n, \\bx_1) & \\cdots & k(\\bx_n, \\bx_n)\n",
    "\\end{array}\\right].\n",
    "$$\n",
    "\n",
    "#### Note\n",
    "- Commonly used kernels are the *radial basis functions (RBFs)*\n",
    "$$\n",
    "k(\\bx,\\by) = A e^{-\\frac{|\\bx - \\by|^\\alpha}{2\\ell^2}},\n",
    "$$\n",
    "where $A$, $\\alpha$, and $\\ell$ are (hyper)parameters to be estimated.\n",
    "- The smoothness of the kernel $k$ determines the smoothess of the process $f_\\bx$.\n",
    "- Brownian motion is when $d=1$, $m(x) = 0$, and $k(x,y) = \\min\\{x, y\\}$."
   ]
  },
  {
   "cell_type": "markdown",
   "metadata": {},
   "source": [
    "## Regression in multivariate normal \n",
    "\n",
    "Let $(\\bX, \\bY)$ be multivariate normal random variables.\n",
    "\n",
    "Recall the following regression equations for the multivariate normal random variables $(\\bX, \\bY)$.\n",
    "\n",
    "$$\n",
    "\\bX|\\bY = \\Eof{\\bX} + \\Sigma_{\\bX\\bY}\\Sigma_{\\bY\\bY}^{-1}(\\bY - \\Eof{\\bY})+ \\bepsilon,\n",
    "$$\n",
    "\n",
    "where $\\bY$, $\\bepsilon$ are independent and \n",
    "\n",
    "$$\n",
    "\\Sigma_{\\bepsilon} = \\Sigma_{\\bX} - \\Sigma_{\\bX\\bY} \\Sigma_{\\bY\\bY}^{-1} \\Sigma_{\\bY\\bX}.\n",
    "$$\n",
    "\n",
    "\n",
    "Hence,\n",
    "\n",
    "$$\n",
    "\\Eof{\\bX|\\bY} = \\Eof{\\bX} + \\Sigma_{\\bX\\bY} \\Sigma_{\\bY}^{-1}(\\bY - \\Eof{\\bY}), \\qquad\n",
    "\\Sigma_{\\bX|\\bY} = \\Sigma_{\\bX} - \\Sigma_{\\bX\\bY} \\Sigma_{\\bY\\bY}^{-1} \\Sigma_{\\bY\\bX}.\n",
    "$$\n"
   ]
  },
  {
   "cell_type": "markdown",
   "metadata": {},
   "source": [
    "## Gaussian process regression (GPR)\n",
    "\n",
    "The \"regression\" is performed in a Baysian style. The underlying regression model is \n",
    "\n",
    "$$\n",
    "y = f_\\bx + u,\n",
    "$$\n",
    "\n",
    "where $f_\\bx$ is a Gaussian process and $u$ is normally distributed with mean zero and variance $\\sigma^2$, independent of $f_\\bx$.\n",
    "\n",
    "For a given prior mean function $m^{pr}(\\bx)$, a prior kerel $k^{pr}(\\bx,\\by)$, and a given set of observations $\\{y_1, \\cdots, y_n\\}$, the posterior mean function $m^{po}(\\bx)$ and the posterior kernel $k^{po}(\\bx, \\by)$ are inferred by applying the regression equation provided in the last cell. \n",
    "\n",
    "Let \n",
    "\n",
    "$$\n",
    "\\bY = [y_1 \\cdots y_n]' \\qquad \\mbox{ and } \\qquad \\bX = [\\bx_1 \\cdots \\bx_n],\n",
    "$$\n",
    "\n",
    "where $y_i = f_{\\bx_i} + u_i$ for $i = 1, 2, \\cdots, n$. \n",
    "\n",
    "Note that \n",
    "\n",
    "$$\n",
    "\\Var(y_i, y_j) = k(\\bx_i, \\bx_j) + \\sigma^2, \\quad \\cov(f_\\bx, y_i) = k(\\bx, \\bx_i).\n",
    "$$\n",
    "\n",
    "By the regression formula, the posterior distribution of $f_{\\bx}$ conditioned on $\\bY$ is \n",
    "\n",
    "$$\n",
    "f_\\bx|\\bY = \\Eof{f_\\bx} + \\Sigma_{\\bx\\bY} \\Sigma_{\\bY\\bY}^{-1}(\\bY - \\Eof{\\bY}) + \\varepsilon,\n",
    "$$\n",
    "\n",
    "where $\\Sigma_{\\bx\\bY}$ is the row vector of covariances between $f_\\bx$ and $\\bY$, and $\\Sigma_{\\bY\\bY}$ the $n\\times n$ covariance matrix of $\\bY$. Their entries are given respectively by\n",
    "\n",
    "$$\n",
    "(\\Sigma_{\\bx\\bY})_i = k^{pr}(\\bx, \\bx_i), \\quad (\\Sigma_{\\bY\\bY})_{ij} = k^{pr}(\\bx_i, \\bx_j) + \\sigma^2\\delta_{ij}. \n",
    "$$\n",
    "\n",
    "$\\varepsilon$ is normally distributed with mean zero and variance given by \n",
    "\n",
    "$$\n",
    "\\Var(\\varepsilon) = k(\\bx, \\bx) - \\Sigma_{\\bx\\bY} \\Sigma_{\\bY\\bY}^{-1} \\Sigma_{\\bY\\bx}. \n",
    "$$\n",
    "\n",
    "The posterior mean function $m^{po}(\\bx)$ is thus obtained as \n",
    "\n",
    "$$\n",
    "m^{po}(\\bx) = m^{pr}(\\bx) + \\Sigma_{\\bx\\bY} \\Sigma_{\\bY\\bY}^{-1}(\\bY - m^{pr}(\\bX))\n",
    "$$\n",
    "\n",
    "and the posterior kernel $k^{po}$\n",
    "\n",
    "$$\n",
    "k^{po}(\\bx, \\tilde\\bx) = k^{pr}(\\bx, \\tilde\\bx) - \\Sigma_{\\bx\\bY} \\Sigma_{\\bY\\bY}^{-1} \\Sigma_{\\bY\\tilde\\bx}.\n",
    "$$\n",
    "\n",
    "#### Note\n",
    "- The posterior mean function can be used as a point estimator \n",
    "- The posterior kernel for confidence interval"
   ]
  },
  {
   "cell_type": "code",
   "execution_count": 35,
   "metadata": {},
   "outputs": [],
   "source": [
    "# hyperparameters by guessing\n",
    "sigma, A, l = 0.3, 0.2, 0.3\n",
    "\n",
    "# target function\n",
    "mu = lambda x: 2*x**2 - x\n",
    "\n",
    "# observations\n",
    "# set seed for reproducing the result\n",
    "np.random.seed(seed=2718)\n",
    "\n",
    "x_is = np.linspace(-1, 1, 21)\n",
    "n = len(x_is)\n",
    "y_is = mu(x_is) + sigma*norm.rvs(size=n)\n",
    "\n",
    "# prior mean function\n",
    "# set as the sample mean of observations\n",
    "y_mean = y_is.mean()\n",
    "m = lambda x: y_mean\n",
    "\n",
    "# prior kernel\n",
    "k = lambda x, y: A*exp(-abs(x-y)**2/2/l**2)\n",
    "\n",
    "# calculate the covariance matrices\n",
    "tmp, _ = np.meshgrid(x_is, x_is)\n",
    "Sigma_YY = k(tmp, _)\n",
    "Sigma_YY = Sigma_YY + sigma**2*np.identity(n)\n",
    "\n",
    "# determine Sigma_YY_inv(Y - EY) by solving the linear system Sigma_YY x = Y - EY\n",
    "Sigma_YY_inv_Y_EY = np.linalg.solve(Sigma_YY, y_is - m(x_is))\n",
    "\n",
    "# posterior mean function\n",
    "mpo = lambda x: m(x) + sum(k(x, x_is)*Sigma_YY_inv_Y_EY)\n",
    "# vectorize\n",
    "mpo = np.vectorize(mpo)\n",
    "\n",
    "# fitted values\n",
    "yhat = mpo(x_is)\n",
    "\n",
    "# absolute errors\n",
    "abs_errs = abs(y_is - yhat)"
   ]
  },
  {
   "cell_type": "code",
   "execution_count": 36,
   "metadata": {},
   "outputs": [
    {
     "name": "stdout",
     "output_type": "stream",
     "text": [
      "1.1358253459151362\n"
     ]
    },
    {
     "data": {
      "text/html": [
       "<div>\n",
       "<style scoped>\n",
       "    .dataframe tbody tr th:only-of-type {\n",
       "        vertical-align: middle;\n",
       "    }\n",
       "\n",
       "    .dataframe tbody tr th {\n",
       "        vertical-align: top;\n",
       "    }\n",
       "\n",
       "    .dataframe thead th {\n",
       "        text-align: right;\n",
       "    }\n",
       "</style>\n",
       "<table border=\"1\" class=\"dataframe\">\n",
       "  <thead>\n",
       "    <tr style=\"text-align: right;\">\n",
       "      <th></th>\n",
       "      <th>y</th>\n",
       "      <th>yhat</th>\n",
       "      <th>abs_errs</th>\n",
       "    </tr>\n",
       "  </thead>\n",
       "  <tbody>\n",
       "    <tr>\n",
       "      <th>0</th>\n",
       "      <td>3.516755</td>\n",
       "      <td>2.380930</td>\n",
       "      <td>1.135825</td>\n",
       "    </tr>\n",
       "    <tr>\n",
       "      <th>1</th>\n",
       "      <td>2.332123</td>\n",
       "      <td>2.222288</td>\n",
       "      <td>0.109835</td>\n",
       "    </tr>\n",
       "    <tr>\n",
       "      <th>2</th>\n",
       "      <td>1.019894</td>\n",
       "      <td>1.974779</td>\n",
       "      <td>0.954885</td>\n",
       "    </tr>\n",
       "    <tr>\n",
       "      <th>3</th>\n",
       "      <td>1.895070</td>\n",
       "      <td>1.707121</td>\n",
       "      <td>0.187948</td>\n",
       "    </tr>\n",
       "    <tr>\n",
       "      <th>4</th>\n",
       "      <td>1.725995</td>\n",
       "      <td>1.448850</td>\n",
       "      <td>0.277145</td>\n",
       "    </tr>\n",
       "    <tr>\n",
       "      <th>5</th>\n",
       "      <td>1.480932</td>\n",
       "      <td>1.189129</td>\n",
       "      <td>0.291803</td>\n",
       "    </tr>\n",
       "    <tr>\n",
       "      <th>6</th>\n",
       "      <td>0.870354</td>\n",
       "      <td>0.908513</td>\n",
       "      <td>0.038160</td>\n",
       "    </tr>\n",
       "    <tr>\n",
       "      <th>7</th>\n",
       "      <td>0.704656</td>\n",
       "      <td>0.610133</td>\n",
       "      <td>0.094523</td>\n",
       "    </tr>\n",
       "    <tr>\n",
       "      <th>8</th>\n",
       "      <td>-0.257049</td>\n",
       "      <td>0.324002</td>\n",
       "      <td>0.581051</td>\n",
       "    </tr>\n",
       "    <tr>\n",
       "      <th>9</th>\n",
       "      <td>0.279927</td>\n",
       "      <td>0.087312</td>\n",
       "      <td>0.192615</td>\n",
       "    </tr>\n",
       "    <tr>\n",
       "      <th>10</th>\n",
       "      <td>0.247570</td>\n",
       "      <td>-0.077739</td>\n",
       "      <td>0.325309</td>\n",
       "    </tr>\n",
       "    <tr>\n",
       "      <th>11</th>\n",
       "      <td>-0.758467</td>\n",
       "      <td>-0.172100</td>\n",
       "      <td>0.586367</td>\n",
       "    </tr>\n",
       "    <tr>\n",
       "      <th>12</th>\n",
       "      <td>-0.108623</td>\n",
       "      <td>-0.212834</td>\n",
       "      <td>0.104212</td>\n",
       "    </tr>\n",
       "    <tr>\n",
       "      <th>13</th>\n",
       "      <td>-0.305841</td>\n",
       "      <td>-0.218536</td>\n",
       "      <td>0.087306</td>\n",
       "    </tr>\n",
       "    <tr>\n",
       "      <th>14</th>\n",
       "      <td>-0.150473</td>\n",
       "      <td>-0.195562</td>\n",
       "      <td>0.045090</td>\n",
       "    </tr>\n",
       "    <tr>\n",
       "      <th>15</th>\n",
       "      <td>-0.030276</td>\n",
       "      <td>-0.132750</td>\n",
       "      <td>0.102473</td>\n",
       "    </tr>\n",
       "    <tr>\n",
       "      <th>16</th>\n",
       "      <td>-0.229478</td>\n",
       "      <td>-0.010076</td>\n",
       "      <td>0.219402</td>\n",
       "    </tr>\n",
       "    <tr>\n",
       "      <th>17</th>\n",
       "      <td>-0.173393</td>\n",
       "      <td>0.181518</td>\n",
       "      <td>0.354910</td>\n",
       "    </tr>\n",
       "    <tr>\n",
       "      <th>18</th>\n",
       "      <td>0.514295</td>\n",
       "      <td>0.422797</td>\n",
       "      <td>0.091498</td>\n",
       "    </tr>\n",
       "    <tr>\n",
       "      <th>19</th>\n",
       "      <td>0.818159</td>\n",
       "      <td>0.666638</td>\n",
       "      <td>0.151521</td>\n",
       "    </tr>\n",
       "    <tr>\n",
       "      <th>20</th>\n",
       "      <td>1.001742</td>\n",
       "      <td>0.858620</td>\n",
       "      <td>0.143122</td>\n",
       "    </tr>\n",
       "  </tbody>\n",
       "</table>\n",
       "</div>"
      ],
      "text/plain": [
       "           y      yhat  abs_errs\n",
       "0   3.516755  2.380930  1.135825\n",
       "1   2.332123  2.222288  0.109835\n",
       "2   1.019894  1.974779  0.954885\n",
       "3   1.895070  1.707121  0.187948\n",
       "4   1.725995  1.448850  0.277145\n",
       "5   1.480932  1.189129  0.291803\n",
       "6   0.870354  0.908513  0.038160\n",
       "7   0.704656  0.610133  0.094523\n",
       "8  -0.257049  0.324002  0.581051\n",
       "9   0.279927  0.087312  0.192615\n",
       "10  0.247570 -0.077739  0.325309\n",
       "11 -0.758467 -0.172100  0.586367\n",
       "12 -0.108623 -0.212834  0.104212\n",
       "13 -0.305841 -0.218536  0.087306\n",
       "14 -0.150473 -0.195562  0.045090\n",
       "15 -0.030276 -0.132750  0.102473\n",
       "16 -0.229478 -0.010076  0.219402\n",
       "17 -0.173393  0.181518  0.354910\n",
       "18  0.514295  0.422797  0.091498\n",
       "19  0.818159  0.666638  0.151521\n",
       "20  1.001742  0.858620  0.143122"
      ]
     },
     "execution_count": 36,
     "metadata": {},
     "output_type": "execute_result"
    }
   ],
   "source": [
    "print(max(abs_errs))\n",
    "pd.DataFrame({'y': y_is, 'yhat': yhat, 'abs_errs': abs_errs})"
   ]
  },
  {
   "cell_type": "code",
   "execution_count": 37,
   "metadata": {},
   "outputs": [
    {
     "data": {
      "image/png": "[encoded data removed]",
      "text/plain": [
       "<Figure size 648x432 with 1 Axes>"
      ]
     },
     "metadata": {
      "needs_background": "light"
     },
     "output_type": "display_data"
    }
   ],
   "source": [
    "# plot\n",
    "plt.figure(figsize=(9, 6))\n",
    "plt.plot(x_is, y_is, 'ro', label='observed')\n",
    "plt.plot(x_is, mu(x_is), ls='dashed', label='target')\n",
    "plt.plot(x_is, yhat, 'o--', label='GPR fit')\n",
    "plt.xlabel(r'$x$', fontsize=15)\n",
    "plt.ylabel(r'$y$', fontsize=15)\n",
    "plt.legend();"
   ]
  },
  {
   "cell_type": "code",
   "execution_count": 38,
   "metadata": {},
   "outputs": [],
   "source": [
    "# posterior kernel\n",
    "def kpo(x, xp):\n",
    "    Sigma_YY_inv_Yxp = np.linalg.solve(Sigma_YY, k(xp, x_is))\n",
    "    Sigma_xY = k(x, x_is)\n",
    "    return k(x, xp) - sum(Sigma_xY*Sigma_YY_inv_Yxp)"
   ]
  },
  {
   "cell_type": "code",
   "execution_count": 39,
   "metadata": {},
   "outputs": [],
   "source": [
    "# wrap everthing up as functions\n",
    "\n",
    "# The posterior mean function from GPR\n",
    "# inputs: \n",
    "# m: prior mean function \n",
    "# k: prior kernel\n",
    "# y: observations\n",
    "# x: indices\n",
    "# \n",
    "# output: the posterior mean function\n",
    "\n",
    "def pos_mean(m, k, y, x, sigma=0.001):\n",
    "    n = len(x)\n",
    "    \n",
    "    # calculate the covariance matrices\n",
    "    tmp, _ = np.meshgrid(x_is, x_is)\n",
    "    Sigma_YY = k(tmp, _)\n",
    "    Sigma_YY = Sigma_YY + sigma**2*np.identity(n)\n",
    "    \n",
    "    # determine Sigma_YY_inv(Y - EY) by solving the linear system Sigma_YY x = Y - EY\n",
    "    Sigma_YY_inv_Y_EY = np.linalg.solve(Sigma_YY, y - m(x))\n",
    "    \n",
    "    # return the posterior mean function\n",
    "    return lambda xx: m(xx) + sum(k(xx, x)*Sigma_YY_inv_Y_EY)\n",
    "\n",
    "\n",
    "# The posterior kernel from GPR\n",
    "# inputs: \n",
    "# k: prior kernel\n",
    "# x: indices\n",
    "# \n",
    "# output: the posterior kernel\n",
    "\n",
    "def pos_kernel(k, x, sigma=0.1):\n",
    "    n = len(x)\n",
    "    \n",
    "    # calculate the covariance matrices\n",
    "    tmp, _ = np.meshgrid(x_is, x_is)\n",
    "    Sigma_YY = k(tmp, _)\n",
    "    Sigma_YY = Sigma_YY + sigma**2*np.identity(n)\n",
    "    \n",
    "    # return the posterior kernel\n",
    "    def _(xx, xp):\n",
    "        # determine Sigma_YY_inv Sigma_Yxp by solving the linear system Sigma_YY x = Sigma_Yxp\n",
    "        Sigma_YY_inv_Yxp = np.linalg.solve(Sigma_YY, k(xp, x))\n",
    "        Sigma_xY = k(xx, x)\n",
    "        return k(xx, xp) - sum(Sigma_xY*Sigma_YY_inv_Yxp)\n",
    "        \n",
    "    return _"
   ]
  },
  {
   "cell_type": "code",
   "execution_count": 40,
   "metadata": {},
   "outputs": [
    {
     "data": {
      "text/plain": [
       "array([ 3.54621538,  2.19815658,  1.28890099,  1.60897726,  1.85557559,\n",
       "        1.50339612,  0.92003406,  0.41076722,  0.14251242,  0.11383494,\n",
       "        0.00924226, -0.29950277, -0.45034976, -0.24524099, -0.036229  ,\n",
       "       -0.11867752, -0.25938903, -0.07346743,  0.42936134,  0.85544179,\n",
       "        0.99444426])"
      ]
     },
     "execution_count": 40,
     "metadata": {},
     "output_type": "execute_result"
    }
   ],
   "source": [
    "# an example of overfitting\n",
    "mpo = pos_mean(m, k, y_is, x_is, sigma=0.001)\n",
    "mpo = np.vectorize(mpo)\n",
    "mpo(x_is)"
   ]
  },
  {
   "cell_type": "code",
   "execution_count": 41,
   "metadata": {},
   "outputs": [
    {
     "data": {
      "image/png": "[encoded data removed]",
      "text/plain": [
       "<Figure size 648x432 with 1 Axes>"
      ]
     },
     "metadata": {
      "needs_background": "light"
     },
     "output_type": "display_data"
    }
   ],
   "source": [
    "# plot\n",
    "plt.figure(figsize=(9, 6))\n",
    "plt.plot(x_is, y_is, 'ro', label='observed')\n",
    "plt.plot(x_is, mu(x_is), ls='dashed', label='target')\n",
    "plt.plot(x_is, mpo(x_is), 'o--', label='GPR fit')\n",
    "plt.xlabel(r'$x$', fontsize=15)\n",
    "plt.ylabel(r'$y$', fontsize=15)\n",
    "plt.legend();"
   ]
  },
  {
   "cell_type": "code",
   "execution_count": 42,
   "metadata": {},
   "outputs": [
    {
     "data": {
      "image/png": "[encoded data removed]",
      "text/plain": [
       "<Figure size 1080x432 with 3 Axes>"
      ]
     },
     "metadata": {
      "needs_background": "light"
     },
     "output_type": "display_data"
    }
   ],
   "source": [
    "# effect of sigma\n",
    "plt.figure(figsize=(15, 6))\n",
    "sigmas = [0.001, 0.1, 10]\n",
    "for i, sigma in zip(range(len(sigmas)), sigmas):\n",
    "    mpo = pos_mean(m, k, y_is, x_is, sigma=sigma)\n",
    "    mpo = np.vectorize(mpo)\n",
    "    plt.subplot(1, 3, i+1)\n",
    "    plt.plot(x_is, y_is, 'ro', label='observed')\n",
    "    plt.plot(x_is, mu(x_is), ls='dashed', label='target')\n",
    "    plt.plot(x_is, mpo(x_is), 'o--', label='GPR fit')\n",
    "    plt.xlabel(r'$x$', fontsize=15)\n",
    "    plt.ylabel(r'$y$', fontsize=15)\n",
    "    plt.title(f'$\\sigma$={sigma}', fontsize=20)\n",
    "    plt.legend();"
   ]
  },
  {
   "cell_type": "markdown",
   "metadata": {},
   "source": [
    "## Implied volatility surface from GPR\n",
    "\n",
    "To apply GPR to construct implied volatility curve for a given fixed time to expiry, the observations $y_1, \\cdots, y_n$ are the implied volatilities inferred from the market traded optios whereas the index $\\bx$ is set as the logmoneyness, i.e., the logarithm of the ratio between strike and forward price. the authors of the  paper \"Machine Learning for Quantitative Finance: Fast Derivative Pricing, Hedging and Fitting\" by Spiegeleer, Madan, Reyners, and Schoutens, chose the radial basis function  \n",
    "\n",
    "$$\n",
    "k(x, y) = A e^{-\\frac{|x-y|^2}{2\\ell^2}}\n",
    "$$\n",
    "\n",
    "as the prior kernel, where $A$ and $\\ell$ are hyperparameters, and a quadratic function as the prior mean function.\n",
    "\n",
    "#### Note \n",
    "- There is no guarantee that the GPR interpolated/extrapolated implied volatility surface would be free of arbitrage.\n",
    "- Nonconvexity of call price as a function of strike indicates the existence of butterfly spread arbitrage and nonmonotonicity indicates bull spread arbitrage. "
   ]
  },
  {
   "cell_type": "code",
   "execution_count": 12,
   "metadata": {},
   "outputs": [
    {
     "data": {
      "image/png": "[encoded data removed]",
      "text/plain": [
       "<Figure size 648x432 with 1 Axes>"
      ]
     },
     "metadata": {
      "needs_background": "light"
     },
     "output_type": "display_data"
    }
   ],
   "source": [
    "# for example, consider a parabolic implied volatility curve in logmoneyness\n",
    "# k = logmoneyness\n",
    "a, b, c = 0.5, 0, 0.3\n",
    "sig_imp = lambda k: a*k**2 + b*k + c\n",
    "\n",
    "s = 10\n",
    "ks = np.linspace(-1, 1, 201)\n",
    "ivs = sig_imp(ks)\n",
    "\n",
    "# plot the implied vol curve\n",
    "plt.figure(figsize=(9, 6))\n",
    "plt.plot(ks, ivs, color='red')\n",
    "plt.xlabel('logmoneyness', fontsize=15)\n",
    "plt.ylabel('implied volatility', fontsize=15);"
   ]
  },
  {
   "cell_type": "code",
   "execution_count": 13,
   "metadata": {},
   "outputs": [
    {
     "data": {
      "image/png": "[encoded data removed]",
      "text/plain": [
       "<Figure size 648x432 with 1 Axes>"
      ]
     },
     "metadata": {
      "needs_background": "light"
     },
     "output_type": "display_data"
    }
   ],
   "source": [
    "# plot the call prices vs strikes\n",
    "Ks = s*exp(ks)\n",
    "cs = bs_call(s=s, K=Ks, sigma=ivs, t=1)['c']\n",
    "plt.figure(figsize=(9, 6))\n",
    "plt.plot(Ks, cs, color='blue')\n",
    "plt.xlabel('strikes', fontsize=15)\n",
    "plt.ylabel('call prices', fontsize=15);"
   ]
  },
  {
   "cell_type": "markdown",
   "metadata": {},
   "source": [
    "## Resolutions to smile\n",
    "\n",
    "Approaches to resolve the skew/smile problem\n",
    "- Local volatility model\n",
    "    - Assume the volatility is a function of the underlying asset and time.\n",
    "    - Market is complete.\n",
    "    - Volatility function is recoverable from the market data (Dupire formula) - easy to calibrate.\n",
    "    - Dupire (diffusion model), Derman-Kani(Markov chain model)\n",
    "\n",
    "- Stochastic volatility model\n",
    "    - Assume the volatility itself follows another stochastic process.\n",
    "    - Incomplete market.\n",
    "    - Volatility of volatility is unobservable\n",
    "    - Heston's model, SABR model, Hull-White model, etc.\n",
    "    - Fractional volatility models\n",
    "\n",
    "- Jump diffusion models (e.g. Merton jump diffusion), exponential Levy models (e.g. CGMY), etc.\n"
   ]
  },
  {
   "cell_type": "markdown",
   "metadata": {},
   "source": [
    "## Local volatility model\n",
    "\n",
    "The local volatility model assumes that the evolution of the price $S_t$ of the underlying under risk neutral probability (with zero interest rate) is governed by the SDE\n",
    "$$\n",
    "\\frac{dS_t}{S_t} =  \\sigma_\\ell (S_t,t) dW_t.\n",
    "$$\n",
    "\n",
    "$\\sigma_\\ell$ is referred to as the *local volatility function*. In other words, rather than taking the volatility as a constant as in the Black-Scholes model, the local volatility model allows the volatility to depend on, and only on, the underlying price $s$ and time $t$.\n",
    "\n",
    "The associated pricing equation for the local volatility model (assume interest rate $r=0$) is given by\n",
    "\n",
    "$$\n",
    "\\frac{\\p u}{\\p t} + \\frac{\\sigma_\\ell^2(s,t)}{2}s^2\\frac{\\p^2 u}{\\p s^2} = 0.\n",
    "$$\n",
    "\n",
    "In addition to being a complete market, one fascinating feature of the local volatility model is that the local volatility function $\\sigma_\\ell$ ideally can be read off from the marekt data of vanilla calls by applying the Dupire's formula\n",
    "\n",
    "$$\n",
    "\\sigma^2_\\ell(K,T) = \\frac{\\frac{\\p C}{\\p T}}{\\frac12 K^2 \\frac{\\p^2 C}{\\p K^2}}\n",
    "$$\n",
    "\n",
    "should one observe the premia of calls for all strikes $K$ and expiries $T$. In practice, we have far less observed data; a method of interpolating/extrapolating the lacking call premia is required to determine the local volatility function $\\sigma_\\ell$.  \n"
   ]
  },
  {
   "cell_type": "markdown",
   "metadata": {},
   "source": [
    "## Example - Bachelier model\n",
    "\n",
    "The Bachelier model can be regarded as a local volatility model with the local volatility function given by $\\sigma_\\ell(s) = \\frac{\\sigma}s$. Hence, the model reads\n",
    "\n",
    "$$\n",
    "dS_t = \\sigma dW_t \\quad \\Longleftrightarrow \\quad S_t = S_0 + \\sigma W_t.\n",
    "$$\n",
    "\n",
    "In other words, the price of the underlying evolves as a (shifted and rescaled) Brownian motion. The associated pricing equation in the Bachelier model reads \n",
    "\n",
    "$$\n",
    "\\frac{\\p u}{\\p t} + \\frac{\\sigma^2}{2} \\frac{\\p^2 u}{\\p s^2} = 0,\n",
    "$$\n",
    "\n",
    "which is the classcial (backward) heat equation, and the premium $c$ of call struck at $K$ with time-to-expiry $\\tau$ is given by \n",
    "\n",
    "$$\n",
    "c = \\frac{\\sigma\\sqrt\\tau}{\\sqrt{2\\pi}} \\, e^{-\\frac{(s - K)^2}{2\\sigma^2\\tau}} + (s - K) \\, N\\left(\\frac{s - K}{\\sigma\\sqrt\\tau}\\right).\n",
    "$$\n"
   ]
  },
  {
   "cell_type": "markdown",
   "metadata": {},
   "source": [
    "## Louis Bachelier\n",
    "\n",
    "<h2><img src=\"https://upload.wikimedia.org/wikipedia/commons/3/3b/LouisBachelier.jpg\" align = \"center\" width=160></h2> \n",
    "<br>\n",
    "Courtesy: Photo from Wikipedia\n",
    "<br>\n",
    "\n",
    "Quotes from the [Wikipage](https://en.wikipedia.org/wiki/Louis_Bachelier)\n",
    "\n",
    ">Louis Jean-Baptiste Alphonse Bachelier (French: [baʃəlje]; March 11, 1870 – April 28, 1946) was a French mathematician at the turn of the 20th century. He is credited with being the first person to model the stochastic process now called Brownian motion, as part of his PhD thesis The Theory of Speculation (Théorie de la spéculation, published 1900).\n",
    "\n",
    ">Bachelier’s Doctoral thesis, which introduced for the first time a mathematical model of Brownian motion and its use for valuing stock options, is historically the first paper to use advanced mathematics in the study of finance. Thus, Bachelier is considered as the forefather of mathematical finance and a pioneer in the study of stochastic processes. "
   ]
  },
  {
   "cell_type": "markdown",
   "metadata": {},
   "source": [
    "## Example - CEV model\n",
    "\n",
    "The constant elasticity of variance (CEV) model is a local volatility model with the local volatility function given by a power function in the price of the underlying. Specifically, the CEV model reads\n",
    "\n",
    "$$\n",
    "\\frac{dS_t}{S_t} = \\alpha S_t^\\beta dW_t\n",
    "$$\n",
    "\n",
    "with $\\alpha > 0$ and $\\beta > -1$. The associated pricing equation in the CEV model reads \n",
    "\n",
    "$$\n",
    "\\frac{\\p u}{\\p t} + \\frac{\\alpha^2}2 s^{2 + 2\\beta} \\frac{\\p^2 u}{\\p s^2} = 0.\n",
    "$$\n",
    "\n",
    "### Note\n",
    "- $\\beta = -1$ is the Bachelier model.\n",
    "- $\\beta < 0$ corresponds to leverage effect which is usually observed in equity markets.\n",
    "- $\\beta > 0$ corresponds to reverse leverage effect often observed in commodity markets\n"
   ]
  },
  {
   "cell_type": "markdown",
   "metadata": {},
   "source": [
    "## Stochastic volatility model\n",
    "\n",
    "Stochastic volatility models impose that the volatility (or equivalently the variance) *per se* is a stochastic process which may or may not be correlated to the driving Brownian motion of the underlying. A generic stochastic volatility model is of the form\n",
    "\n",
    "\\begin{eqnarray*}\n",
    "&& \\frac{dS_t}{S_t} = \\sqrt{v_t} \\, dW_t, \\\\\n",
    "&& d v_t = a(t, v_t) dt + b(t, v_t) \\, dZ_t,\n",
    "\\end{eqnarray*}\n",
    "\n",
    "where $W_t$ and $Z_t$ are correlated Brownian motions with correlation $\\rho$. The process $v_t$ is usually referred to as the *instantaneous variance* and its square root $\\sigma_t := \\sqrt{v_t}$ the *instantaneous volatility* of the underlying at time $t$.\n",
    "\n",
    "Commonly used stochastic volatility models include \n",
    "- Heston model\n",
    "- Hull-White model\n",
    "- Stochastic alpha-beta-rho (SABR) model\n",
    "\n",
    "### Note\n",
    "- Incomplete market. \n",
    "- Instantaneous volatility process is latent. \n",
    "- Conditions on the functions $a$ and $b$ are required for the positivity of $v_t$."
   ]
  },
  {
   "cell_type": "markdown",
   "metadata": {},
   "source": [
    "## Numerical and approximate solutions\n",
    "\n",
    "As opposed to Black-Scholes model, local volatility and stochastic volatility models generally admit no closed form expressions for vanilla options as simple as the Black-Scholes formula. One is required to resort to numerical or approximate solutions as practical applications are concerned. Commonly used methodologies include\n",
    "\n",
    "- Monte Carlo simulation\n",
    "    - Less sensitive to dimensionality\n",
    "    - More flexible for additional extra features for pricing problems\n",
    "    - Usually slower than numerical PDE though improved efficient schemes exist\n",
    "\n",
    "- Numerical PDE solver\n",
    "    - Faster than simulation but still slow for calibration\n",
    "    - More involved and technical in mathematics than Monte Carlo\n",
    "\n",
    "- Asymptotic expansions\n",
    "    - Approximate solution, not exact\n",
    "    - Fast enough for calibration\n",
    "    - Solution is up to an order of a small parameter, but in closed form\n"
   ]
  },
  {
   "cell_type": "markdown",
   "metadata": {},
   "source": [
    "## Example - the Heston model\n",
    "\n",
    "The dynamic of Heston's model under risk neutral probability with zero interest rate reads\n",
    "\n",
    "\\begin{eqnarray*}\n",
    "&& \\frac{d S_t}{S_t} = \\sqrt{v_t}dB_t,  \\\\\n",
    "&& d v_t = \\lambda(m - v_t)dt + \\eta \\sqrt{v_t} dZ_t, \\\\\n",
    "&& \\mathbb{E}[dB_t dZ_t] = \\rho dt.\n",
    "\\end{eqnarray*}\n",
    "\n",
    "The pricing equation in Heston's model reads\n",
    "\n",
    "$$\n",
    "\\frac{\\p u}{\\p t} + \\frac{s^2 v}{2}\\frac{\\p^2 u}{\\p s^2} + \\rho \\eta s v \\frac{\\p^2 u}{\\p s \\p v} +  \\frac{\\eta^2 v}{2}\\frac{\\p^2 u}{\\p v^2} + \\lambda(m - v) \\frac{\\p u}{\\p v} = 0\n",
    "$$\n",
    "\n",
    "and the premium $c$ of a call struck at $K$ has the following quasi-closed form (modulo a one-dimensional integral) expression\n",
    "\n",
    "$$\n",
    "c = K \\,\\left\\{ e^x \\,P_1(x,v,\\tau ) - P_0(x ,v ,\\tau)\\right\\},\n",
    "$$ \n",
    "\n",
    "where $x = \\log s - \\log K$ and\n",
    "\n",
    "$$\n",
    "    P_j (x,v,\\tau ) =\\frac{1}{2} + \\frac{1}{\\pi }\\,\\int_0^\\infty \\,\\mathop{Re} \\left\\{ {\\frac{{\\exp \\{ C_j (u,\\tau )\\,\\bar v + D_j(u,\\tau )\\,v + i\\,u\\,x\\} }}{{i\\,u}}} \\right\\} \\, du, \\quad j = 0,1.\n",
    "$$\n",
    "\n",
    "\n",
    "\n",
    "### Note\n",
    "- The condition on the coefficients $2\\lambda m \\geq \\eta^2$ guarantees that the variance process $v_t$ never hit zero. In practice, the condition is at times not met. \n",
    "- Technical note: call premium from characteristic function\n",
    "\n",
    "$$\n",
    "c = S - \\frac{\\sqrt{SK}}\\pi \\, \\int_0^\\infty Re\\left\\{ e^{-iuk} \\phi\\left(u - \\frac i2 \\right) \\right\\} \\frac{du}{u^2 + \\frac14},\n",
    "$$\n",
    "\n",
    "where $\\phi$ is the characteristic function of $\\log(S_T/S_0)$, $k = \\log(K/S_0)$ denotes the logmoneyness, and $i = \\sqrt{-1}$. "
   ]
  },
  {
   "cell_type": "code",
   "execution_count": 14,
   "metadata": {},
   "outputs": [],
   "source": [
    "# numerical integration in python\n",
    "from scipy.integrate import quad"
   ]
  },
  {
   "cell_type": "code",
   "execution_count": 15,
   "metadata": {},
   "outputs": [
    {
     "data": {
      "text/plain": [
       "(2.0, 2.220446049250313e-14)"
      ]
     },
     "execution_count": 15,
     "metadata": {},
     "output_type": "execute_result"
    }
   ],
   "source": [
    "f = lambda x: np.sin(x)\n",
    "quad(f, a=0, b=np.pi)"
   ]
  },
  {
   "cell_type": "code",
   "execution_count": 16,
   "metadata": {},
   "outputs": [
    {
     "data": {
      "text/plain": [
       "((-2+0j), 3.0, 7.0)"
      ]
     },
     "execution_count": 16,
     "metadata": {},
     "output_type": "execute_result"
    }
   ],
   "source": [
    "# complex number in python\n",
    "1j*2j, (3+2j).real, (5+7j).imag"
   ]
  },
  {
   "cell_type": "code",
   "execution_count": 17,
   "metadata": {},
   "outputs": [],
   "source": [
    "# Heston characteristic function\n",
    "def phi_heston(lmda, rho, eta, vbar, v):\n",
    "    def _(u, t):\n",
    "        al = -u*u/2 - 1j*u/2\n",
    "        bet = lmda - rho*eta*1j*u\n",
    "        gam = eta**2/2\n",
    "        d = sqrt(bet*bet - 4*al*gam)\n",
    "        rp = (bet + d)/(2*gam)\n",
    "        rm = (bet - d)/(2*gam)\n",
    "        g = rm/rp\n",
    "        D = rm*(1 - exp(-d*t))/ (1 - g*exp(-d*t))\n",
    "        C = lmda * (rm * t - 2/eta**2 * log( (1 - g*exp(-(d*t)))/(1 - g) ) )\n",
    "        return exp(C*vbar + D*v)\n",
    "    return _"
   ]
  },
  {
   "cell_type": "code",
   "execution_count": 18,
   "metadata": {},
   "outputs": [],
   "source": [
    "# call price from chf \n",
    "def call_option(phi, k, t):\n",
    "    integrand = lambda u: (exp(-1j*u*k)*phi(u - 1j/2, t)/(u**2 + 1/4)).real\n",
    "    tmp = quad(integrand, a=0, b=np.inf)[0]\n",
    "    return 1 - exp(k/2)/np.pi*tmp"
   ]
  },
  {
   "cell_type": "code",
   "execution_count": 19,
   "metadata": {},
   "outputs": [
    {
     "data": {
      "text/plain": [
       "0.09701405804263008"
      ]
     },
     "execution_count": 19,
     "metadata": {},
     "output_type": "execute_result"
    }
   ],
   "source": [
    "# parameters for Heston model\n",
    "lmda, rho, eta, vbar, v = 0.6067, -0.7571, 0.2928, 0.0707, .0654\n",
    "call_option(phi_heston(lmda, rho, eta, vbar, v), 0, 1)"
   ]
  },
  {
   "cell_type": "code",
   "execution_count": 20,
   "metadata": {},
   "outputs": [
    {
     "data": {
      "image/png": "[encoded data removed]",
      "text/plain": [
       "<Figure size 1080x432 with 2 Axes>"
      ]
     },
     "metadata": {
      "needs_background": "light"
     },
     "output_type": "display_data"
    }
   ],
   "source": [
    "# plot\n",
    "x = np.linspace(-1, 1, 201)\n",
    "_ = lambda xx: call_option(phi_heston(lmda, rho, eta, vbar, v), xx, 1)\n",
    "_ = np.vectorize(_)\n",
    "y = _(x)\n",
    "\n",
    "plt.figure(figsize=(15, 6))\n",
    "plt.subplot(1, 2, 1)\n",
    "plt.plot(x, y)\n",
    "plt.xlabel('logmoneyness', fontsize=15)\n",
    "plt.ylabel('call price', fontsize=15)\n",
    "plt.subplot(1, 2, 2)\n",
    "plt.plot(exp(x), y)\n",
    "plt.xlabel('moneyness', fontsize=15);"
   ]
  },
  {
   "cell_type": "markdown",
   "metadata": {},
   "source": [
    "## Heston model in log return\n",
    "\n",
    "Denote by $X_t = \\log S_t - \\log S_0$ the logarithmic return. Then the Heston model can be recast as\n",
    "\n",
    "\\begin{eqnarray*}\n",
    "&& dX_t = \\sqrt{v_t} \\, dB_t - \\frac12 v_t dt, \\\\\n",
    "&& d v_t = \\lambda(m - v_t) dt + \\eta \\sqrt{v_t} \\, dZ_t,\n",
    "\\end{eqnarray*}\n",
    "\n",
    "where $B_t = \\rho Z_t + \\bar\\rho W_t$ and $W_t$, $Z_t$ are independent Brownian motions. $\\bar\\rho = \\sqrt{1 - \\rho^2}$. "
   ]
  },
  {
   "cell_type": "markdown",
   "metadata": {},
   "source": [
    "## Joint characteristic function for log return and integrated variance\n",
    "\n",
    "We are interested in determining the joint characteristic function for the logarithmic return $X_T$ and the integrated variance $\\int_0^T v_t dt$. Namely,  \n",
    "\n",
    "$$\n",
    "\\Eof{e^{iu_1 X_T + iu_2 \\int_0^T v_t dt}},\n",
    "$$\n",
    "\n",
    "where $u_1, u_2 \\in \\R$ are parameters. "
   ]
  },
  {
   "cell_type": "markdown",
   "metadata": {},
   "source": [
    "Notice that we have \n",
    "\n",
    "\\begin{eqnarray*}\n",
    "X_T &=& X_t + \\rho \\int_t^T \\sqrt{v_\\tau} dZ_\\tau + \\bar\\rho \\int_t^T \\sqrt{v_\\tau} dW_\\tau - \\frac12 \\int_t^T v_\\tau d\\tau  \\\\\n",
    "&=& X_t + \\frac\\rho\\eta \\left\\{v_T - v_t - \\int_t^T \\lambda(m - v_\\tau) d\\tau \\right\\} + \\bar\\rho \\int_t^T \\sqrt{v_\\tau} dW_\\tau - \\frac12 \\int_t^T v_\\tau d\\tau \\\\\n",
    "&=& X_t - \\frac\\rho\\eta \\{v_t + \\lambda m (T - t)\\} + \\frac\\rho\\eta v_T + \\int_t^T \\left(\\frac{\\lambda\\rho}\\eta - \\frac12\\right) v_\\tau d\\tau + \\bar\\rho \\int_t^T \\sqrt{v_\\tau} dW_\\tau \n",
    "\\end{eqnarray*}\n"
   ]
  },
  {
   "cell_type": "markdown",
   "metadata": {},
   "source": [
    "Thus, \n",
    "\n",
    "\\begin{eqnarray*}\n",
    "&& \\Eof{\\left. e^{iu_1 X_T + iu_2\\int_t^T v_\\tau d\\tau} \\right|X_t=x, v_t=v} \\\\\n",
    "&=& \\Eof{\\left. e^{iu_1 \\left\\{ X_t - \\frac\\rho\\eta \\{v_t + \\lambda m (T - t)\\} + \\frac\\rho\\eta v_T + \\int_t^T \\left(\\frac{\\lambda\\rho}\\eta - \\frac12\\right) v_\\tau d\\tau + \\bar\\rho \\int_t^T \\sqrt{v_\\tau} dW_\\tau \\right\\} + iu_2\\int_t^T v_\\tau d\\tau} \\right| v_t=v} \\\\\n",
    "&=& e^{iu_1\\left(x - \\frac\\rho\\eta \\{v + \\lambda m (T - t)\\}\\right)}\\Eof{\\left. e^{iu_1 \\left\\{\\frac\\rho\\eta v_T + \\int_t^T \\left(\\frac{\\lambda\\rho}\\eta - \\frac12\\right) v_\\tau d\\tau + \\bar\\rho \\int_t^T \\sqrt{v_\\tau} dW_\\tau \\right\\} + iu_2\\int_t^T v_\\tau d\\tau} \\right|v_t=v} \\\\\n",
    "&=& e^{iu_1\\left(x - \\frac\\rho\\eta \\{v + \\lambda m (T - t)\\}\\right)}\\Eof{\\left. e^{iu_1 \\left\\{\\frac\\rho\\eta v_T + \\int_t^T \\left(\\frac{\\lambda\\rho}\\eta - \\frac12 + \\frac{\\bar\\rho^2}2 \\right) v_\\tau d\\tau \\right\\} + iu_2\\int_t^T v_\\tau d\\tau} \\right|v_t=v} \\\\\n",
    "&=& e^{iu_1\\left(x - \\frac\\rho\\eta \\{v + \\lambda m (T - t)\\}\\right)}\\Eof{\\left. e^{ iu_1\\frac\\rho\\eta v_T + \\int_t^T \\left\\{iu_1 \\left(\\frac{\\lambda\\rho}\\eta - \\frac{\\rho^2}2 \\right) + iu_2 \\right\\} v_\\tau d\\tau} \\right|v_t=v}\n",
    "\\end{eqnarray*}"
   ]
  },
  {
   "cell_type": "markdown",
   "metadata": {},
   "source": [
    "## Feynman-Kac formula again\n",
    "\n",
    "We proceed by applying the Feynman-Kac formula to evaluate the expectation.\n",
    "\n",
    "Let \n",
    "\n",
    "$$\n",
    "u(t, v) = \\Eof{\\left. e^{ c_1 v_T - \\int_t^T c_2 v_\\tau d\\tau} \\right|v_t=v},\n",
    "$$\n",
    "\n",
    "where $c_1 = iu_1\\frac\\rho\\eta$ and $c_2 = -i\\left\\{u_1\\left(\\frac{\\lambda\\rho}\\eta - \\frac{\\rho^2}2\\right) + u_2\\right\\}$. Then $u$ is a solution to the (backward) PDE\n",
    "\n",
    "\\begin{eqnarray*}\n",
    "u_t + \\frac{\\eta^2 v}2 u_{vv} + \\lambda(m - v) u_v  = c_2 v u\n",
    "\\end{eqnarray*}\n",
    "\n",
    "with terminal condition $u(T, v) = e^{c_1 v}$."
   ]
  },
  {
   "cell_type": "markdown",
   "metadata": {},
   "source": [
    "## Solving the terminal value problem\n",
    "\n",
    "Assume the ansatz of exponential affine\n",
    "\n",
    "$$\n",
    "u(t, v) = e^{H_1 v + H_0}.\n",
    "$$\n",
    "\n",
    "The derivatives of $u$ are given by\n",
    "\n",
    "\\begin{eqnarray*}\n",
    "&& u_t = (\\dot H_1 v + \\dot H_0) u, \\\\\n",
    "&& u_v = H_1 u, \\\\\n",
    "&& u_{vv} = H_1^2 u.\n",
    "\\end{eqnarray*}\n",
    "\n",
    "Substuting the derivatives into the PDE yields \n",
    "\n",
    "$$\n",
    "\\dot H_1 v + \\dot H_0 + \\frac{\\eta^2}2 v H_1^2 + \\lambda(m - v) H_1 = c_2 v. \n",
    "$$\n",
    "\n",
    "Compare the coefficients then we obtain the system of ODEs for $H_1$ and $H_0$\n",
    "\n",
    "\\begin{eqnarray*}\n",
    "v &:& \\dot H_1 + \\frac{\\eta^2}2 H_1^2 - \\lambda H_1 = c_2, \\\\\n",
    "1 &:& \\dot H_0 + \\lambda m H_1 = 0\n",
    "\\end{eqnarray*}\n",
    "\n",
    "with terminal conditions $H_1(T) = c_1$ and $H_0(T) = 0$."
   ]
  },
  {
   "cell_type": "markdown",
   "metadata": {},
   "source": [
    "## Solution to system of ODEs\n",
    "The solution to the ODEs is given (formally) by \n",
    "\n",
    "\\begin{eqnarray*}\n",
    "H_1(t) &=& \\frac{\\lambda}{\\eta^2} + \\frac{\\Delta}{\\eta^2}  \\tan \\left(\\arctan\\left\\{\\frac{c_1 \\eta^2 - \\lambda}{\\Delta}\\right\\} + \\frac\\Delta2 (T-t) \\right), \\\\\n",
    "H_0(t) &=& \\frac{2\\lambda m}{\\eta^2} \\log \\left(\\cos \\left\\{\\arctan\\left(\\frac{c_1 \\eta^2 - \\lambda}\\Delta\\right)\\right\\}\\right) \\\\\n",
    "&& - \\frac{2\\lambda m}{\\eta^2} \\log \\left(\\cos \\left\\{ \\frac\\Delta2 (t-T) - \\arctan \\left(\\frac{c_1 \\eta ^2-\\lambda }\\Delta\\right)\\right\\}\\right) \n",
    "+ \\frac{\\lambda^2 m}{\\eta^2}(T-t)\n",
    "\\end{eqnarray*}\n",
    "\n",
    "where $\\Delta = \\sqrt{-2 c_2 \\eta^2 - \\lambda^2}$.\n",
    "\n",
    "#### Note\n",
    "Note that some of the parameters are complex, it causes some troubles when evaluating  logarithm etc. "
   ]
  },
  {
   "cell_type": "markdown",
   "metadata": {},
   "source": [
    "Thus, we can obtain the characteristic function for $X_T$ by simply setting $u_2 = 0$."
   ]
  }
 ],
 "metadata": {
  "celltoolbar": "Slideshow",
  "kernelspec": {
   "display_name": "Python 3",
   "language": "python",
   "name": "python3"
  },
  "language_info": {
   "codemirror_mode": {
    "name": "ipython",
    "version": 3
   },
   "file_extension": ".py",
   "mimetype": "text/x-python",
   "name": "python",
   "nbconvert_exporter": "python",
   "pygments_lexer": "ipython3",
   "version": "3.8.2"
  },
  "toc": {
   "base_numbering": 1,
   "nav_menu": {},
   "number_sections": false,
   "sideBar": true,
   "skip_h1_title": false,
   "title_cell": "Table of Contents",
   "title_sidebar": "Contents",
   "toc_cell": false,
   "toc_position": {},
   "toc_section_display": true,
   "toc_window_display": false
  },
  "varInspector": {
   "cols": {
    "lenName": 16,
    "lenType": 16,
    "lenVar": 40
   },
   "kernels_config": {
    "python": {
     "delete_cmd_postfix": "",
     "delete_cmd_prefix": "del ",
     "library": "var_list.py",
     "varRefreshCmd": "print(var_dic_list())"
    },
    "r": {
     "delete_cmd_postfix": ") ",
     "delete_cmd_prefix": "rm(",
     "library": "var_list.r",
     "varRefreshCmd": "cat(var_dic_list()) "
    }
   },
   "types_to_exclude": [
    "module",
    "function",
    "builtin_function_or_method",
    "instance",
    "_Feature"
   ],
   "window_display": false
  }
 },
 "nbformat": 4,
 "nbformat_minor": 2
}
